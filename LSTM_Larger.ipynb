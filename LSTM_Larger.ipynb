{
 "cells": [
  {
   "cell_type": "code",
   "execution_count": 102,
   "id": "430eb086-f9fc-4483-a75b-f63ca0283cdb",
   "metadata": {},
   "outputs": [],
   "source": [
    "from sklearn.datasets import fetch_20newsgroups\n",
    "import pandas as pd\n",
    "from sklearn.feature_extraction.text import CountVectorizer\n",
    "from sklearn.model_selection import train_test_split\n",
    "from sklearn.preprocessing import LabelEncoder\n",
    "from tensorflow.keras.preprocessing.text import Tokenizer\n",
    "from sklearn.feature_extraction.text import TfidfVectorizer\n",
    "from sklearn.metrics import accuracy_score, classification_report,confusion_matrix\n",
    "import re\n",
    "from nltk.corpus import stopwords\n",
    "from nltk.stem import PorterStemmer\n",
    "from bs4 import BeautifulSoup\n",
    "from unidecode import unidecode\n",
    "from gensim.models import Word2Vec\n",
    "from sklearn.linear_model import LogisticRegression\n",
    "from sklearn.pipeline import make_pipeline\n",
    "from nltk.stem import WordNetLemmatizer\n",
    "from tensorflow.keras.preprocessing.sequence import pad_sequences\n",
    "from tensorflow.keras.models import Sequential\n",
    "from tensorflow.keras.layers import Embedding, LSTM, Dense,Dropout, BatchNormalization\n",
    "from keras.optimizers import Adam\n",
    "from keras.callbacks import EarlyStopping\n",
    "import fasttext\n",
    "import numpy as np\n"
   ]
  },
  {
   "cell_type": "code",
   "execution_count": 82,
   "id": "2f30a19f-3ea6-4a99-96f8-a37fd5bcd8ac",
   "metadata": {},
   "outputs": [],
   "source": [
    "#!pip install fasttext"
   ]
  },
  {
   "cell_type": "code",
   "execution_count": 119,
   "id": "9a2ba781-2a04-4843-9fa1-691df3f3d9db",
   "metadata": {},
   "outputs": [],
   "source": [
    "data = fetch_20newsgroups(subset='all', shuffle=True, remove=('headers', 'footers', 'quotes'))\n",
    "df = pd.DataFrame({'text': data.data, 'label': data.target})\n",
    "df = df[df['text'].apply(lambda x: len(x.strip()) > 0)]"
   ]
  },
  {
   "cell_type": "code",
   "execution_count": 120,
   "id": "fde82ddc-3d15-49de-ac32-8098dcd6270c",
   "metadata": {},
   "outputs": [
    {
     "data": {
      "text/plain": [
       "20"
      ]
     },
     "execution_count": 120,
     "metadata": {},
     "output_type": "execute_result"
    }
   ],
   "source": [
    "len(df['label'].value_counts())"
   ]
  },
  {
   "cell_type": "code",
   "execution_count": 121,
   "id": "4acd5283-fc5e-43de-9bf7-fdc3c7c9d40e",
   "metadata": {},
   "outputs": [],
   "source": [
    "#df['text']"
   ]
  },
  {
   "cell_type": "code",
   "execution_count": 122,
   "id": "467584cc-b776-4b5b-b9cd-d6df49858793",
   "metadata": {},
   "outputs": [
    {
     "data": {
      "text/plain": [
       "0                                                                                                                                                                                                                                                                                                                                                                                                                                                                                                                                                                                                                                                                                                                                                                                                                                                                                                                                                                                                                                                                                                                                                                                                                                                                                                                                                                                                                                                                                                                                                                                                                                                                                                                                                                                                                                                                                                                                                                                                                                                                                                                                                                                                                                                                                                                                                                                                                                                                                                                                                                                                                                                                                                                                                                                                                                                                                                                                                                                                                                                                                                                                                                                                                                                                                                                                                                                                                                                                                                                                                                                                                                                                                                                                                                                                                                                                                                                                                                                                                                                                                                                                                                                                                                                                                                                                                                                                                                                                                                                                                                                                                                                                                                                                                                                                                                                                                                                                                                                                                                                                                                                                                                                                                                                                                                                                                                                                                                                                                                                                                                                                                                                                                                                                                                                                                                                                                                                                                                                                                                                                                                                                                                                                                                                                                                                                                                                                                                                                                                                                                                                                                                                            \\n\\nI am sure some bashers of Pens fans are pretty confused about the lack\\nof any kind of posts about the recent Pens massacre of the Devils. Actually,\\nI am  bit puzzled too and a bit relieved. However, I am going to put an end\\nto non-PIttsburghers' relief with a bit of praise for the Pens. Man, they\\nare killing those Devils worse than I thought. Jagr just showed you why\\nhe is much better than his regular season stats. He is also a lot\\nfo fun to watch in the playoffs. Bowman should let JAgr have a lot of\\nfun in the next couple of games since the Pens are going to beat the pulp out of Jersey anyway. I was very disappointed not to see the Islanders lose the final\\nregular season game.          PENS RULE!!!\\n\\n\n",
       "1                                                                                                                                                                                                                                                                                                                                                                                                                                                                                                                                                                                                                                                                                                                                                                                                                                                                                                                                                                                                                                                                                                                                                                                                                                                                                                                                                                                                                                                                                                                                                                                                                                                                                                                                                                                                                                                                                                                                                                                                                                                                                                                                                                                                                                                                                                                                                                                                                                                                                                                                                                                                                                                                                                                                                                                                                                                                                                                                                                                                                                                                                                                                                                                                                                                                                                                                                                                                                                                                                                                                                                                                                                                                                                                                                                                                                                                                                                                                                                                                                                                                                                                                                                                                                                                                                                                                                                                                                                                                                                                                                                                                                                                                                                                                                                                                                                                                                                                                                                                                                                                                                                                                                                                                                                                                                                                                                                                                                                                                                                                                                                                                                                                                                                                                                                                                                                                                                                                                                                                                                                                                                                                                                                                                                                                                                                                                                                                                                                                                                                                                                                                                                                                                                                                                                                                                                                                                                                                                                                                                                                                             My brother is in the market for a high-performance video card that supports\\nVESA local bus with 1-2MB RAM.  Does anyone have suggestions/ideas on:\\n\\n  - Diamond Stealth Pro Local Bus\\n\\n  - Orchid Farenheit 1280\\n\\n  - ATI Graphics Ultra Pro\\n\\n  - Any other high-performance VLB card\\n\\n\\nPlease post or email.  Thank you!\\n\\n  - Matt\\n\n",
       "2                                                                                                                                                                                                                                                                                                                                                                                                                                                                                                                                                                                                                                                                                                                                                                                                                                                                                                                                                                                                                                                                                                                                                                                                                                                                                                                                                                                                                                                                                                                                                                                                                                                                                                                                                                                                                                                                                                                                                                                                                                                                                                                                                                                                                                                                                                                                                                                                                                                                                                                                                                                                                                                                                                                                                                                                                                                                                                                                                                                                                                                                                                                                                                                                                                                                                                                                                                                                                                                                                                                                                                                                                                                                                                                                                                                                                                                                                                                                                                                                                                                                                                                                                                                                                                                                                                                                                                                                                                                                                                                                                                                                                                                                                                                                                                                                                                                                                                                                                                                                                                                                                                                                                                                                                                                                                                                                                                                                                                                                                                      \\n\\n\\n\\n\\tFinally you said what you dream about. Mediterranean???? That was new....\\n\\tThe area will be \"greater\" after some years, like your \"holocaust\" numbers......\\n\\n\\n\\n\\n\\t\\t*****\\n\\tIs't July in USA now????? Here in Sweden it's April and still cold.\\n\\tOr have you changed your calendar???\\n\\n\\n\\t\\t\\t\\t\\t\\t    ****************\\n\\t\\t\\t\\t\\t\\t    ******************\\n\\t\\t\\t    ***************\\n\\n\\n\\tNOTHING OF THE MENTIONED IS TRUE, BUT LET SAY IT's TRUE.\\n\\t\\n\\tSHALL THE AZERI WOMEN AND CHILDREN GOING TO PAY THE PRICE WITH\\n\\t\\t\\t\\t\\t\\t    **************\\n\\tBEING RAPED, KILLED AND TORTURED BY THE ARMENIANS??????????\\n\\t\\n\\tHAVE YOU HEARDED SOMETHING CALLED: \"GENEVA CONVENTION\"???????\\n\\tYOU FACIST!!!!!\\n\\n\\n\\n\\tOhhh i forgot, this is how Armenians fight, nobody has forgot\\n\\tyou killings, rapings and torture against the Kurds and Turks once\\n\\tupon a time!\\n      \\n       \\n\\n\\nOhhhh so swedish RedCross workers do lie they too? What ever you say\\n\"regional killer\", if you don't like the person then shoot him that's your policy.....l\\n\\n\\n\\t\\t\\t\\t\\t\\t\\t\\t\\t\\ti\\n\\t\\t\\t\\t\\t\\t\\t\\t\\t\\ti\\n\\t\\t\\t\\t\\t\\t\\t\\t\\t\\ti\\n\\tConfused?????\\t\\t\\t\\t\\t\\t\\t\\ti\\n\\t\\t\\t\\t\\t\\t\\t\\t\\t\\ti\\n        Search Turkish planes? You don't know what you are talking about.\\ti\\n        Turkey's government has announced that it's giving weapons  <-----------i\\n        to Azerbadjan since Armenia started to attack Azerbadjan\\t\\t\\n        it self, not the Karabag province. So why search a plane for weapons\\t\\n        since it's content is announced to be weapons?   \\n\\n\\tIf there is one that's confused then that's you! We have the right (and we do)\\n\\tto give weapons to the Azeris, since Armenians started the fight in Azerbadjan!\\n \\n\\n\\n\\tShoot down with what? Armenian bread and butter? Or the arms and personel \\n\\tof the Russian army?\\n\\n\\n\n",
       "3                                                                                                                                                                                                                                                                                                                                                                                                                                                                                                                                                                                                                                                                                                                                                                                                                                                                                                                                                                                                                                                                                                                                                                                                                                                                                                                                                                                                                                                                                                                                                                                                                                                                                                                                                                                                                                                                                                                                                                                                                                                                                                                                                                                                                                                                                                                                                                                                                                                                                                                                                                                                                                                                                                                                                                                                                                                                                                                                                                                                                                                                                                                                                                                                                                                                                                                                                                                                                                                                                                                                                                                                                                                                                                                                                                                                                                                                                                                                                                                                                                                                                                                                                                                                                                                                                                                                                                                                                                                                                                                                                                                                                                                                                                                                                                                                                                                                                                                                                                                                                                                                                                                                                                                                                                                                                                                                                                                                                                                                                                                                                                                                                                                                                                                                                                                                                                                                                                                                                                                                                                                                                                                                                                                                                                                                                                                                                                                                                                                                                                                                                                                  \\nThink!\\n\\nIt's the SCSI card doing the DMA transfers NOT the disks...\\n\\nThe SCSI card can do DMA transfers containing data from any of the SCSI devices\\nit is attached when it wants to.\\n\\nAn important feature of SCSI is the ability to detach a device. This frees the\\nSCSI bus for other devices. This is typically used in a multi-tasking OS to\\nstart transfers on several devices. While each device is seeking the data the\\nbus is free for other commands and data transfers. When the devices are\\nready to transfer the data they can aquire the bus and send the data.\\n\\nOn an IDE bus when you start a transfer the bus is busy until the disk has seeked\\nthe data and transfered it. This is typically a 10-20ms second lock out for other\\nprocesses wanting the bus irrespective of transfer time.\\n\n",
       "4                                                                                                                                                                                                                                                                                                                                                                                                                                                                                                                                                                                                                                                                                                                                                                                                                                                                                                                                                                                                                                                                                                                                                                                                                                                                                                                                                                                                                                                                                                                                                                                                                                                                                                                                                                                                                                                                                                                                                                                                                                                                                                                                                                                                                                                                                                                                                                                                                                                                                                                                                                                                                                                                                                                                                                                                                                                                                                                                                                                                                                                                                                                                                                                                                                                                                                                                                                                                                                                                                                                                                                                                                                                                                                                                                                                                                                                                                                                                                                                                                                                                                                                                                                                                                                                                                                                                                                                                                                                                                                                                                                                                                                                                                                                                                                                                                                                                                                                                                                                                                                                                                                                                                                                                                                                                                                                                                                                                                                                                                                                                                                                                                                                                                                                                                                                                                                                                                                                                                                                                                                                                                                                                                                                                                                                                                                                                                                                                                                                                                                                                                                                                                                                                                                            1)    I have an old Jasmine drive which I cannot use with my new system.\\n My understanding is that I have to upsate the driver with a more modern\\none in order to gain compatability with system 7.0.1.  does anyone know\\nof an inexpensive program to do this?  ( I have seen formatters for <$20\\nbuit have no idea if they will work)\\n \\n2)     I have another ancient device, this one a tape drive for which\\nthe back utility freezes the system if I try to use it.  THe drive is a\\njasmine direct tape (bought used for $150 w/ 6 tapes, techmar\\nmechanism).  Essentially I have the same question as above, anyone know\\nof an inexpensive beckup utility I can use with system 7.0.1\n",
       "5                                                                                                                                                                                                                                                                                                                                                                                                                                                                                                                                                                                                                                                                                                                                                                                                                                                                                                                                                                                                                                                                                                                                                                                                                                                                                                                                                                                                                                                                                                                                                                                                                                                                                                                                                                                                                                                                                                                                                                                                                                                                                                                                                                                                                                                                                                                                                                                                                                                                                                                                                                                                                                                                                                                                                                                                                                                                                                                                                                                                                                                                                                                                                                                                                                                                                                                                                                                                                                                                                                                                                                                                                                                                                                                                                                                                                                                                                                                                                                                                                                                                                                                                                                                                                                                                                                                                                                                                                                                                                                                                                                                                                                                                                                                                                                                                                                                                                                                                                                                                                                                                                                                                                                                                                                                                                                                                                                                                                                                                                                                                                                                                                                                                                                                                                                                                                                                                                                                                                                                                                                                                                                                                                                                                                                                                                                                                                                                                                                                                                                                                                                                                                                                                                                                                                                                                                                                                                                                                                                                                  \\n\\nBack in high school I worked as a lab assistant for a bunch of experimental\\npsychologists at Bell Labs.  When they were doing visual perception and\\nmemory experiments, they used vector-type displays, with 1-millisecond\\nrefresh rates common.\\n\\nSo your case of 1/200th sec is quite practical, and the experimenters were\\nprobably sure that it was 5 milliseconds, not 4 or 6 either.\\n\\n\\nSteve\n",
       "6                                                                                                                                                                                                                                                                                                                                                                                                                                                                                                                                                                                                                                                                                                                                                                                                                                                                                                                                                                                                                                                                                                                                                                                                                                                                                                                                                                                                                                                                                                                                                                                                                                                                                                                                                                                                                                                                                                                                                                                                                                                                                                                                                                                                                                                                                                                                                                                                                                                                                                                                                                                                                                                                                                                                                                                                                                                                                                                                                                                                                                                                                                                                                                                                                                                                                                                                                                                                                                                                                                                                                                                                                                                                                                                                                                                                                                                                                                                                                                                                                                                                                                                                                                                                                                                                                                                                                                                                                                                                                                                                                                                                                                                                                                                                                                                                                                                                                                                                                                                                                                                                                                                                                                                                                                                                                                                                                                                                                                                                                                                                                                                                                                                                                                                                                                                                                                                                                                                                                                                                                                                                                                                                                                                                                                                                                                                                                                                                                                                                                                                                                                                                                                                                                                                                                                                                                                                                                                                                                                                                                                                                                                                                                                                                                                                                       \\n\\nAE is in Dallas...try 214/241-6060 or 214/241-0055.  Tech support may be on\\ntheir own line, but one of these should get you started.\n",
       "7                                                                                                                                                                                                                                                                                                                                                                                                                                                                                                                                                                                                                                                                                                                                                                                                                                                                                                                                                                                                                                                                                                                                                                                                                                                                                                                                                                                                                                                                                                                                                                                                                                                                                                                                                                                                                                                                                                                                                                                                                                                                                                                                                                                                                                                                                                                                                                                                                                                                                                                                                                                                                                                                                                                                                                                                                                                                                                                                                                                                                                                                                                                                                                                                                                                                                                                                                                                                                                                                                                                                                                                                                                                                                                                                                                                                                                                                                                                                                                                                                                                                                                                                                                                                                                                                                                                                                                                                                                                                                                                                                                                                                                                                                                                                                                                                                                                                                                                                                                                                                                                                                                                                                                                                                                                                                                                                                                                                                                                                                                                                                                                                                                                                                                                                                                                                                                                                                                                                                                                                                                                                                                                                                                                                                                                                                                                                                                                                                                                                                                                                                                                   \\n[stuff deleted]\\n\\nOk, here's the solution to your problem.  Move to Canada.  Yesterday I was able\\nto watch FOUR games...the NJ-PITT at 1:00 on ABC, LA-CAL at 3:00 (CBC), \\nBUFF-BOS at 7:00 (TSN and FOX), and MON-QUE at 7:30 (CBC).  I think that if\\neach series goes its max I could be watching hockey playoffs for 40-some odd\\nconsecutive nights (I haven't counted so that's a pure guess).\\n\\nI have two tv's in my house, and I set them up side-by-side to watch MON-QUE\\nand keep an eye on BOS-BUFF at the same time.  I did the same for the two\\nafternoon games.\\n\\nBtw, those ABC commentaters were great!  I was quite impressed; they seemed\\nto know that their audience wasn't likely to be well-schooled in hockey lore\\nand they did an excellent job.  They were quite impartial also, IMO.\\n\\n\n",
       "8                                                                                                                                                                                                                                                                                                                                                                                                                                                                                                                                                                                                                                                                                                                                                                                                                                                                                                                                                                                                                                                                                                                                                                                                                                                                                                                                                                                                                                                                                                                                                                                                                                                                                                                                                                                                                                                                                                                                                                                                                                                                                                                                                                                                                                                                                                                                                                                                                                                                                                                                                                                                                                                                                                                                                                                                                                                                                                                                                                                                                                                                                                                                                                                                                                                                                                                                                                                                                                                                                                                                                                                                                                                                                                                                                                                                                                                                                                                                                                                                                                                                                                                                                                                                                                                                                                                                                                                                                                                                                                                                                                                                                                                                                                                                                                                                                                                                                                                                                                                                                                                                                                                                                                                                                                                                                                                                                                                                                                                                                                                                                                                                                                                                                                                                                                                                                                                                                                                                                                                                                                                                                                                                                                                                                                                                                                                                                                                                                                                                                                                                                                                                                                                                                                                                                                                                                                                                                                                                                                                                                                                                                  \\n\\n\\nYeah, it's the second one.  And I believe that price too.  I've been trying\\nto get a good look at it on the Bruin-Sabre telecasts, and wow! does it ever\\nlook good.  Whoever did that paint job knew what they were doing.  And given\\nFuhr's play since he got it, I bet the Bruins are wishing he didn't have it:)\\n\n",
       "9                                                                                                                                                                                                                                                                                                                                                                                                                                                                                                                                                                                                                                                                                                                                                                                                                                                                                                                                                                                                                                                                                                                                                                                                                                                                                                                                                                                                                                                                                                                                                                                                                                                                                                                                                                                                                                                                                                                                                                                                                                                                                                                                                                                                                                                                                                                                                                                                                                                                                                                                                                                                                                                                                                                                                                                                                                                                                                                                                                                                                                                                                                                                                                                                                                                                                                                                                                                                                                                                                                                                                                                                                                                                                                                                                                                                                                                                                                                                                                                                                                                                                                                                                                                                                                                                                                                                                                                                                                                                                                                                                                                                                                                                                                                                                                                                                                                                                                                                                                                                                                                                                                                                                                                                                                                                                                                                                                                                                                                                                                                                                                                                                                                                                                                                                                                                                                                                                                                                                                                                                                                                                                                                                                                                                                                                                                                                                                                                                                                                                                                                                                                                                                                                                                                                                                                                                                                                                                                                                                       \\nIf a Christian means someone who believes in the divinity of Jesus, it is safe\\nto say that Jesus was a Christian.\\n--\\n\"On the first day after Christmas my truelove served to me...  Leftover Turkey!\\nOn the second day after Christmas my truelove served to me...  Turkey Casserole\\n    that she made from Leftover Turkey.\\n[days 3-4 deleted] ...  Flaming Turkey Wings! ...\\n   -- Pizza Hut commercial (and M*tlu/A*gic bait)\n",
       "10                                                                                                                                                                                                                                                                                                                                                                                                                                                                                                                                                                                                                                                                                                                                                                                                                                                                                                                                                                                                                                                                                                                                                                                                                                                                                                                                                                                                                                                                                                                                                                                                                                                                                                                                                                                                                                                                                                                                                                                                                                                                                                                                                                                                                                                                                                                                                                                                                                                                                                                                                                                                                                                                                                                                                                                                                                                                                                                                                                                                                                                                                                                                                                                                                                                                                                                                                                                                                                                                                                                                                                                                                                                                                                                                                                                                                                                                                                                                                                                                                                                                                                                                                                                                                                                                                                                                                                                                                                                                                                                                                                                                                                                                                                                                                                                                                                                                                                                                                                                                                                                                                                                                                                                                                                                                                                                                                                                                                                                                                                                                                                                                                                                                                                                                                                                                                                                                                                                                                                                                                                                                                                                                                                                                                                                                                                                                                                                                                                                                                                                                                                                                                                                                                                                                                                                                                                                                                                                                                                                                                                                                                                                                                                       the blood of the lamb.\\n\\nThis will be a hard task, because most cultures used most animals\\nfor blood sacrifices. It has to be something related to our current\\npost-modernism state. Hmm, what about used computers?\\n\\nCheers,\\nKent\n",
       "11                                                                                                                                                                                                                                                                                                                                                                                                                                                                                                                                                                                                                                                                                                                                                                                                                                                                                                                                                                                                                                                                                                                                                                                                                                                                                                                                                                                                                                                                                                                                                                                                                                                                                                                                                                                                                                                                                                                                                                                                                                                                                                                                                                                                                                                                                                                                                                                                                                                                                                                                                                                                                                                                                                                                                                                                                                                                                                                                                                                                                                                                                                                                                                                                                                                                                                                                                                                                                                                                                                                                                                                                                                                                                                                                                                                                                                                                                                                                                                                                                                                                                                                                                                                                                                                                                                                                                                                                                                                                                                                                                                                                                                                                                                                                                                                                                                                                                                                                                                                                                                                                                                                                                                                                                                                                                                                                                                                                                                                                                                                                                                                                                                                                                                                                                                                                                                                                                                                                                                                                                                                                                                                                                                                                                                                                                                                                                                                                                                                                                                                                                                                                                                                                                                                                                                                                                                                                                                                                                                                                                                                                                                                                                                                                                                                                                                                                                    >say they have a \"history of untrustworthy behavoir[sic]\"? \n",
       "12    930418\\n\\nDo what thou wilt shall be the whole of the Law. [Honestly.]\\nThe word of Sin is Restriction. [Would I kid you?]\\n\\n\\nDoes one man's words encompass the majestic vision of thousands\\nof individuals?  Quoting a man is not the same as quoting the\\nOrder.  Taken out of context, words can be interpreted much\\ndifferently than had one applied them within the confines of\\ntheir original expression.\\n\\nI think this is the case regarding Hymenaeus Beta, Frater Superior \\nof the Order to which I belong.  When he included that bit\\nfrom Merlinus X' he did us all a service.  He showed us the extremes\\nto which Order members have been known to go in their fervor.\\nI have little knowledge regarding Reuss' background, but surely\\nhe was an unusual man, and he was an important force in the Order \\nfor many years.\\n\\nYet as people change so do Orders change, and while we look back\\nso carefully at the dirty laundry of O.T.O. remember that this is\\nonly the surface skim and that many perspectives are now encompassed\\nwhich extend beyond any one individual.  I hope to show that there\\nwas and is much room for a difference of opinion within the Order\\nitself, perhaps by testing the limits myself.\\n\\n\\nLet us examine this issue a bit more closely....\\n\\n\"In 1895, Karl Kellner (1850-1905), a wealthy Austrian industrialist\\nand paper chemist, as well as a high-grade Mason, founded the Ordo\\nTempli Orientis.  Kellner had traveled widely in the East, where he\\nmet three adepts who instructed him specific magical practices.  \\nKellner's efforts to develop the Order were later assisted by Franz\\nHartmann, Heinrich Klein and Theodore Reuss, who had worked together\\nprior to joining the O.T.O.  The Order was first proclaimed in 1902\\nin Reuss's Masonic publication, 'Oriflamme'.  On Kellner's death,\\nReuss succeeded him as Outer Head [O.H.O.].  The 'Jubilee' edition of\\nthe 'Oriflamme', published in 1912, announced that the Order taught\\nsecret of sexual magic.\\n \\n\"Theodore Reuss was an interesting character.  Born June 28, 1855 in\\nAugsburg, he entered Masonry in 1876.  He was a singer, journalist and\\npossibly a spy for the Prussian political police, infiltrating the Socialist\\nLeague founded by Karl Marx's daughter and her husband.  Reuss was\\nlater associated with William Wynn Westcott, a leader of the Golden\\nDawn, who later introduced him to John Yarker.  Yarker chartered Reuss to\\nfound the Rites of Memphis and Mizraim in Germany.  After several\\nattempts to concretize various Masonic Rites, Reuss settled on the\\ndevelopment of the O.T.O.\\n\\n\"The Order experienced reasonably steady growth under Reuss' leadership.\\nFor example, he chartered Papus in France, Rudolph Steiner in Berlin\\nand H. Spencer Lewis in the USA.  In 1912, the historic meeting between\\nReuss and Crowley occurred.  Crowley wrote that Reuss came to him and\\naccused him of revealing Order secrets.  When Crowley looked at it afresh,\\nthe initiated interpretation of sexual magick unfolded itself to him for\\nthe first time.  Reuss appointed Crowley as Supreme and Holy King of all\\nthe English speaking world, and it was this authorization that he invoked\\nwhen publishing the material of the Equinox.\\n\\n\"Reuss resigned as Outer Head of the Order in 1922 after suffering a\\nstroke and named Crowley his successor.  All was well until 1925 when\\n_The Book of the Law_ was translated into German.  There was a break\\nin the continuity of the Order.  Manyk members split with the new O.H.O.\\nover the book, which Crowley was actively promulgating through the Order.\\nHe had earlier revise dthe Order rituals at Reuss's request, deeply\\ninfusing the doctrines of the New Aeon revelation.\"\\n\\n_An Introduction to the History of the O.T.O._, by Ad Veritatem IX'\\n\\nWithin _Equinox III:10_, Edited by \\n  Hymenaeus Beta, Frater Superior, Rex Summus Sanctissimus,\\n    Caliph of the United States of America,\\n      Published by Samuel Weiser, 1990.\\n\\n\\n\\nThere are many possible reasons that our Frater Superior included this\\nmaterial in _Equinox III:10_.  And this is the real point, is it not?\\nWhy did he wish to publish such things about the history of his own\\norganization?  Does he represent a dogmatic threat to the principle\\nof Thelema?  Or is he exercising his True Will and putting forth very\\ncomplex pictures with no easy answers?  A picture which leaves room\\nfor very many interpretations.\\n\\nIt is quite easy for me to see, for example, that all of O.T.O. derived\\nout of the dribble of faltering Masonry, purchased by clever hucksters\\nwith an ounce of courage and some writing ability to aid them.  And I\\ncan take that all the way down to our present Caliph, whose feeble\\nsupport of the 'Law of Thelema' is laughable at best.\\n\\nWould I be thrown out of the Order for speaking in this way?  \\nWill I?  \\nI think not.\\nWhy?  Because my Frater will see it as a perspective, an interjection\\nI am using as an example.  My illustration shows that we may express things\\nin the context of a larger work and the true significance of this may be\\nquite difficult to apprehend at first.\\n\\nSo it may be with OTO and Merlinus X'.  Please look O.T.O. more carefully.\\nI do not support Reuss's words myself, as I am not qualified to assess\\nthem, and I am critical of their pomposity.  If I who am a member of\\nthe Order take such a stand and am allowed to continue doing so, then\\nwhat can this say about the health of the Order?  Does it mean that\\nthe Order has 'gone soft' and abandoned its moral principles?  Or\\ndoes it mean that it is strong in its ability to let the will of\\nuniversal kinship arise on its own, not shackled by some dogmatic\\nrequirement?  How shall we resolve these two possibilities?\\n\\n\\nI find a high calibre of individual associated with Ordo Templi Orientis.\\nThey are often quite intelligent and sometimes very well versed in arcane\\nor usual information.  They are quite often artists and geniuses.  \\nHaving met some 20 longstanding members in the SF Bay Area (many who are or\\nwere very heavily involved with the Order), I can vouch for the integrity\\nof the organization as it stands.\\n\\nI have sometimes questioned the policy of Hymenaeus Beta.  In these moments \\nI followed my intuition, and I've found little to stop me from requesting\\na Second initiation from a different O.T.O. body.  I'm happily participating\\nin social groups (Feasts or Initiations) and have come to know the Gnostic\\nMass well enough for my tastes.\\n \\n\\nThis doesn't make me an authority on Order politics and explanations, however.\\nI can only hypothesize and relay to you what I understand based on my\\nlimited contact with other members.\\n\\nI urge you not to take the words of Merlinus X too far.  There are many\\nways to interpret words, and many people who have become involved with\\nthe Order feel very strongly about the sanctity of personal freedom\\nand the preservation of individual vision.\\n\\nI welcome other comment on this issue and will be writing more in response\\nto other posts in this thread.\\n\\n\\nInvoke me under my stars.  Love is the law, love under will.\\n\\nI am I!\n",
       "13                                                                                                                                                                                                                                                                                                                                                                                                                                                                                                                                                                                                                                                                                                                                                                                                                                                                                                                                                                                                                                                                                                                                                                                                                                                                                                                                                                                                                                                                                                                                                                                                                                                                                                                                                                                                                                                                                                                                                                                                                                                                                                                                                                                                                                                                                                                                                                                                                                                                                                                                                                                                                                                                                                                                                                                                                                                                                                                                                                                                                                                                                                                                                                                                                                                                                                                                                                                                                                                                                                                                                                                                                                                                                                                                                                                                                                                                                                                                                                                                                                                                                                                                                                                                                                                                                                                                                                                                                                                                                                                                                                                                                                                                                                                                                                                                                                                                                                                                                                                                                                                                                                                                                                                                                                                                                                                                                                                                                                                                                                                                                                                                                                                                                                                                                                                                                                                                                                                                                                                                                                                                                                                                                                                                                                                                                                                                                                                                                                                                                                                                                                                                                                                                                                                                                                                                                                                                                                                                                                                                                                                                                                                               How about Kirlian imaging ? I believe the FAQ for sci.skeptics (sp?)\\n has a nice write-up on this. They would certainly be most supportive\\n on helping you to build such a device and connect to a 120Kvolt\\n supply so that you can take a serious look at your \"aura\"... :-)\n",
       "14                                                                                                                                                                                                                                                                                                                                                                                                                                                                                                                                                                                                                                                                                                                                                                                                                                                                                                                                                                                                                                                                                                                                                                                                                                                                                                                                                                                                                                                                                                                                                                                                                                                                                                                                                                                                                                                                                                                                                                                                                                                                                                                                                                                                                                                                                                                                                                                                                                                                                                                                                                                                                                                                                                                                                                                                                                                                                                                                                                                                                                                                                                                                                                                                                                                                                                                                                                                                                                                                                                                                                                                                                                                                                                                                                                                                                                                                                                                                                                                                                                                                                                                                                                                                                                                                                                                                                                                                                                                                                                                                                                                                                                                                                                                                                                                                                                                                                                                                                                                                                                                                                                                                                                                                                                                                                                                                                                                                                                                                                                                                                                                                                                                                                                                                                                                                                                                                                                                                                                                                                                                                                                                                                                                                                                                                                                                                                                                                                                                                                                                                                                                                                                                                                                                                                                                                                                                                                                                                                                                                                                                                                                                                                                                                                                               \\n\\n\\tThere is no notion of heliocentric, or even galacticentric either.\\n\\n\\n\\n--------------------------------------------------------------------------------\n",
       "Name: text, dtype: object"
      ]
     },
     "execution_count": 122,
     "metadata": {},
     "output_type": "execute_result"
    }
   ],
   "source": [
    "pd.set_option('display.max_colwidth', None)\n",
    "df['text'].head(15)\n"
   ]
  },
  {
   "cell_type": "code",
   "execution_count": 123,
   "id": "e8ca3970-b679-4e73-8b46-f15ff1c1a723",
   "metadata": {},
   "outputs": [],
   "source": [
    "def preprocess_text(df_column):\n",
    "    # Remove HTML tags\n",
    "    df_column = df_column.apply(BeautifulSoup, args=('html.parser',)).apply(lambda x: x.get_text())\n",
    "\n",
    "    # Removing accented characters\n",
    "    df_column = df_column.apply(unidecode)\n",
    "    df_column = df_column.str.lower()\n",
    "    df_column = df_column.apply(lambda x: re.sub(r'[^a-zA-Z\\s]', '', x))\n",
    "    # Stemming\n",
    "    #stemmer = PorterStemmer()\n",
    "    #df_column = df_column.apply(lambda x: ' '.join([stemmer.stem(word) for word in x.split()]))\n",
    "    lemmatizer = WordNetLemmatizer()\n",
    "    df_column = df_column.apply(lambda x: ' '.join([lemmatizer.lemmatize(word) for word in x.split()]))\n",
    "\n",
    "    # Removing stop-words\n",
    "    stop_words = set(stopwords.words('english'))\n",
    "    df_column = df_column.apply(lambda x: ' '.join([word for word in x.split() if word.lower() not in stop_words]))\n",
    "    \n",
    "\n",
    "    return df_column"
   ]
  },
  {
   "cell_type": "code",
   "execution_count": 124,
   "id": "7a92b6ab-8ce5-4f9e-911d-1a4b7696442c",
   "metadata": {},
   "outputs": [
    {
     "name": "stderr",
     "output_type": "stream",
     "text": [
      "/home/fouzankhan/anaconda3/lib/python3.11/site-packages/pandas/core/apply.py:1278: MarkupResemblesLocatorWarning: The input looks more like a filename than markup. You may want to open this file and pass the filehandle into Beautiful Soup.\n",
      "  return func(x, *self.args, **self.kwargs)\n"
     ]
    }
   ],
   "source": [
    "df['text'] = preprocess_text(df['text'])"
   ]
  },
  {
   "cell_type": "code",
   "execution_count": 70,
   "id": "1e0c50fd-b33d-4db5-a9fe-903aa7ee9b1c",
   "metadata": {},
   "outputs": [],
   "source": [
    "#new_df = df"
   ]
  },
  {
   "cell_type": "code",
   "execution_count": 125,
   "id": "223f3b5f-74fc-4b3f-92db-943c961c5914",
   "metadata": {},
   "outputs": [],
   "source": [
    "df = df[['label','text']]"
   ]
  },
  {
   "cell_type": "code",
   "execution_count": 126,
   "id": "bb2c9d89-07a2-43ae-bb6f-e11aefaa75cb",
   "metadata": {},
   "outputs": [
    {
     "data": {
      "text/html": [
       "<div>\n",
       "<style scoped>\n",
       "    .dataframe tbody tr th:only-of-type {\n",
       "        vertical-align: middle;\n",
       "    }\n",
       "\n",
       "    .dataframe tbody tr th {\n",
       "        vertical-align: top;\n",
       "    }\n",
       "\n",
       "    .dataframe thead th {\n",
       "        text-align: right;\n",
       "    }\n",
       "</style>\n",
       "<table border=\"1\" class=\"dataframe\">\n",
       "  <thead>\n",
       "    <tr style=\"text-align: right;\">\n",
       "      <th></th>\n",
       "      <th>label</th>\n",
       "      <th>text</th>\n",
       "    </tr>\n",
       "  </thead>\n",
       "  <tbody>\n",
       "    <tr>\n",
       "      <th>0</th>\n",
       "      <td>10</td>\n",
       "      <td>sure bashers pen fan pretty confused lack kind post recent pen massacre devil actually bit puzzled bit relieved however going put end nonpittsburghers relief bit praise pen man killing devil worse thought jagr showed much better regular season stats also lot fo fun watch playoff bowman let jagr lot fun next couple game since pen going beat pulp jersey anyway wa disappointed see islander lose final regular season game pen rule</td>\n",
       "    </tr>\n",
       "    <tr>\n",
       "      <th>1</th>\n",
       "      <td>3</td>\n",
       "      <td>brother market highperformance video card support vesa local bus mb ram doe anyone suggestionsideas diamond stealth pro local bus orchid farenheit ati graphic ultra pro highperformance vlb card please post email thank matt</td>\n",
       "    </tr>\n",
       "    <tr>\n",
       "      <th>2</th>\n",
       "      <td>17</td>\n",
       "      <td>finally said dream mediterranean wa new area greater year like holocaust number ist july usa sweden april still cold changed calendar nothing mentioned true let say true shall azeri woman child going pay price raped killed tortured armenian hearded something called geneva convention facist ohhh forgot armenian fight nobody ha forgot killing rapings torture kurd turk upon time ohhhh swedish redcross worker lie ever say regional killer dont like person shoot thats policyl confused search turkish plane dont know talking turkey government ha announced giving weapon azerbadjan since armenia started attack azerbadjan self karabag province search plane weapon since content announced weapon one thats confused thats right give weapon azeri since armenian started fight azerbadjan shoot armenian bread butter arm personel russian army</td>\n",
       "    </tr>\n",
       "    <tr>\n",
       "      <th>3</th>\n",
       "      <td>3</td>\n",
       "      <td>think scsi card dma transfer disk scsi card dma transfer containing data scsi device attached want important feature scsi ability detach device free scsi bus device typically used multitasking start transfer several device device seeking data bus free command data transfer device ready transfer data aquire bus send data ide bus start transfer bus busy disk ha seeked data transfered typically second lock process wanting bus irrespective transfer time</td>\n",
       "    </tr>\n",
       "    <tr>\n",
       "      <th>4</th>\n",
       "      <td>4</td>\n",
       "      <td>old jasmine drive cannot use new system understanding upsate driver modern one order gain compatability system doe anyone know inexpensive program seen formatters buit idea work another ancient device one tape drive back utility freeze system try use drive jasmine direct tape bought used w tape techmar mechanism essentially question anyone know inexpensive beckup utility use system</td>\n",
       "    </tr>\n",
       "    <tr>\n",
       "      <th>5</th>\n",
       "      <td>12</td>\n",
       "      <td>back high school worked lab assistant bunch experimental psychologist bell lab visual perception memory experiment used vectortype display millisecond refresh rate common case th sec quite practical experimenter probably sure wa millisecond either steve</td>\n",
       "    </tr>\n",
       "  </tbody>\n",
       "</table>\n",
       "</div>"
      ],
      "text/plain": [
       "   label  \\\n",
       "0     10   \n",
       "1      3   \n",
       "2     17   \n",
       "3      3   \n",
       "4      4   \n",
       "5     12   \n",
       "\n",
       "                                                                                                                                                                                                                                                                                                                                                                                                                                                                                                                                                                                                                                                                                                                                                                                                                                                                 text  \n",
       "0                                                                                                                                                                                                                                                                                                                                                                                                                       sure bashers pen fan pretty confused lack kind post recent pen massacre devil actually bit puzzled bit relieved however going put end nonpittsburghers relief bit praise pen man killing devil worse thought jagr showed much better regular season stats also lot fo fun watch playoff bowman let jagr lot fun next couple game since pen going beat pulp jersey anyway wa disappointed see islander lose final regular season game pen rule  \n",
       "1                                                                                                                                                                                                                                                                                                                                                                                                                                                                                                                                                                                                                                      brother market highperformance video card support vesa local bus mb ram doe anyone suggestionsideas diamond stealth pro local bus orchid farenheit ati graphic ultra pro highperformance vlb card please post email thank matt  \n",
       "2  finally said dream mediterranean wa new area greater year like holocaust number ist july usa sweden april still cold changed calendar nothing mentioned true let say true shall azeri woman child going pay price raped killed tortured armenian hearded something called geneva convention facist ohhh forgot armenian fight nobody ha forgot killing rapings torture kurd turk upon time ohhhh swedish redcross worker lie ever say regional killer dont like person shoot thats policyl confused search turkish plane dont know talking turkey government ha announced giving weapon azerbadjan since armenia started attack azerbadjan self karabag province search plane weapon since content announced weapon one thats confused thats right give weapon azeri since armenian started fight azerbadjan shoot armenian bread butter arm personel russian army  \n",
       "3                                                                                                                                                                                                                                                                                                                                                                                               think scsi card dma transfer disk scsi card dma transfer containing data scsi device attached want important feature scsi ability detach device free scsi bus device typically used multitasking start transfer several device device seeking data bus free command data transfer device ready transfer data aquire bus send data ide bus start transfer bus busy disk ha seeked data transfered typically second lock process wanting bus irrespective transfer time  \n",
       "4                                                                                                                                                                                                                                                                                                                                                                                                                                                                    old jasmine drive cannot use new system understanding upsate driver modern one order gain compatability system doe anyone know inexpensive program seen formatters buit idea work another ancient device one tape drive back utility freeze system try use drive jasmine direct tape bought used w tape techmar mechanism essentially question anyone know inexpensive beckup utility use system  \n",
       "5                                                                                                                                                                                                                                                                                                                                                                                                                                                                                                                                                                                                       back high school worked lab assistant bunch experimental psychologist bell lab visual perception memory experiment used vectortype display millisecond refresh rate common case th sec quite practical experimenter probably sure wa millisecond either steve  "
      ]
     },
     "execution_count": 126,
     "metadata": {},
     "output_type": "execute_result"
    }
   ],
   "source": [
    "df.head(6)"
   ]
  },
  {
   "cell_type": "code",
   "execution_count": 127,
   "id": "762dc744-58e2-456d-b8ae-56650c6ecaae",
   "metadata": {},
   "outputs": [],
   "source": [
    "df.to_csv('cleaned_dataset.csv', index=False)"
   ]
  },
  {
   "cell_type": "code",
   "execution_count": 128,
   "id": "8c34ecb4-0880-4ff5-b93f-120ac1e2f0a3",
   "metadata": {},
   "outputs": [],
   "source": [
    "new_df = df"
   ]
  },
  {
   "cell_type": "code",
   "execution_count": 113,
   "id": "8644500a-adde-4616-a2ca-83d184aecc6f",
   "metadata": {},
   "outputs": [
    {
     "data": {
      "text/html": [
       "<div>\n",
       "<style scoped>\n",
       "    .dataframe tbody tr th:only-of-type {\n",
       "        vertical-align: middle;\n",
       "    }\n",
       "\n",
       "    .dataframe tbody tr th {\n",
       "        vertical-align: top;\n",
       "    }\n",
       "\n",
       "    .dataframe thead th {\n",
       "        text-align: right;\n",
       "    }\n",
       "</style>\n",
       "<table border=\"1\" class=\"dataframe\">\n",
       "  <thead>\n",
       "    <tr style=\"text-align: right;\">\n",
       "      <th></th>\n",
       "      <th>label</th>\n",
       "      <th>text</th>\n",
       "    </tr>\n",
       "  </thead>\n",
       "  <tbody>\n",
       "    <tr>\n",
       "      <th>0</th>\n",
       "      <td>__label__10</td>\n",
       "      <td>sure bashers pen fan pretty confused lack kind post recent pen massacre devil actually bit puzzled bit relieved however going put end nonpittsburghers relief bit praise pen man killing devil worse thought jagr showed much better regular season stats also lot fo fun watch playoff bowman let jagr lot fun next couple game since pen going beat pulp jersey anyway wa disappointed see islander lose final regular season game pen rule</td>\n",
       "    </tr>\n",
       "    <tr>\n",
       "      <th>1</th>\n",
       "      <td>__label__3</td>\n",
       "      <td>brother market highperformance video card support vesa local bus mb ram doe anyone suggestionsideas diamond stealth pro local bus orchid farenheit ati graphic ultra pro highperformance vlb card please post email thank matt</td>\n",
       "    </tr>\n",
       "  </tbody>\n",
       "</table>\n",
       "</div>"
      ],
      "text/plain": [
       "         label  \\\n",
       "0  __label__10   \n",
       "1   __label__3   \n",
       "\n",
       "                                                                                                                                                                                                                                                                                                                                                                                                                                            text  \n",
       "0  sure bashers pen fan pretty confused lack kind post recent pen massacre devil actually bit puzzled bit relieved however going put end nonpittsburghers relief bit praise pen man killing devil worse thought jagr showed much better regular season stats also lot fo fun watch playoff bowman let jagr lot fun next couple game since pen going beat pulp jersey anyway wa disappointed see islander lose final regular season game pen rule  \n",
       "1                                                                                                                                                                                                                 brother market highperformance video card support vesa local bus mb ram doe anyone suggestionsideas diamond stealth pro local bus orchid farenheit ati graphic ultra pro highperformance vlb card please post email thank matt  "
      ]
     },
     "execution_count": 113,
     "metadata": {},
     "output_type": "execute_result"
    }
   ],
   "source": [
    "df['label'] = \"__label__\"+df['label'].astype(str)\n",
    "df.head(2)"
   ]
  },
  {
   "cell_type": "code",
   "execution_count": 61,
   "id": "e0ba20e5-6b7e-43f9-a27b-6b383844e871",
   "metadata": {},
   "outputs": [],
   "source": [
    "df['label_text'] = df['label']+ \" \"+ df['text']"
   ]
  },
  {
   "cell_type": "code",
   "execution_count": 14,
   "id": "d0330e9f-cc4f-4d5c-97a5-4a61f3c9b202",
   "metadata": {},
   "outputs": [
    {
     "data": {
      "text/plain": [
       "(12281, 3)"
      ]
     },
     "execution_count": 14,
     "metadata": {},
     "output_type": "execute_result"
    }
   ],
   "source": [
    "train, test= train_test_split(df, test_size=0.33, random_state=42)\n",
    "\n",
    "train.shape"
   ]
  },
  {
   "cell_type": "code",
   "execution_count": 15,
   "id": "3d9bba77-f3d5-4314-bcde-1c4e84e7b6a4",
   "metadata": {},
   "outputs": [
    {
     "data": {
      "text/plain": [
       "(6050, 3)"
      ]
     },
     "execution_count": 15,
     "metadata": {},
     "output_type": "execute_result"
    }
   ],
   "source": [
    "test.shape"
   ]
  },
  {
   "cell_type": "code",
   "execution_count": 16,
   "id": "1630d463-20ac-452b-a748-ea2443466045",
   "metadata": {},
   "outputs": [],
   "source": [
    "train.to_csv(\"newsgroup20.train\",columns = [\"label_text\"], index=False, header=False)\n",
    "train.to_csv(\"newsgroup20.test\",columns = [\"label_text\"],index=False, header=False )"
   ]
  },
  {
   "cell_type": "code",
   "execution_count": 17,
   "id": "65c37be2-f807-4415-bb76-941c347a7062",
   "metadata": {},
   "outputs": [
    {
     "name": "stderr",
     "output_type": "stream",
     "text": [
      "Read 1M words\n",
      "Number of words:  82655\n",
      "Number of labels: 20\n",
      "Progress: 100.0% words/sec/thread: 1785680 lr:  0.000000 avg.loss:  2.780288 ETA:   0h 0m 0s\n"
     ]
    },
    {
     "data": {
      "text/plain": [
       "(12281, 0.216676166435958, 0.216676166435958)"
      ]
     },
     "execution_count": 17,
     "metadata": {},
     "output_type": "execute_result"
    }
   ],
   "source": [
    "model = fasttext.train_supervised(input=\"newsgroup20.train\")\n",
    "model.test(\"newsgroup20.test\")"
   ]
  },
  {
   "cell_type": "code",
   "execution_count": 25,
   "id": "3a9c7f34-9dbe-4e41-871c-2f640de8ff17",
   "metadata": {},
   "outputs": [],
   "source": [
    "#df.dropna(inplace=True) df drop element"
   ]
  },
  {
   "cell_type": "code",
   "execution_count": 18,
   "id": "c7ef5ae9-8a55-4747-b444-6f2c60313246",
   "metadata": {},
   "outputs": [],
   "source": [
    "X_train, X_test, y_train, y_test = train_test_split(df['text'],df['label'],test_size = 0.33, random_state = 96)"
   ]
  },
  {
   "cell_type": "code",
   "execution_count": 19,
   "id": "1686b696-3336-4bd8-8c1f-60fbf07e6803",
   "metadata": {},
   "outputs": [],
   "source": [
    "def get_doc_vectors(docs):\n",
    "    vectors = [model.get_sentence_vector(doc) for doc in docs]\n",
    "    return vectors"
   ]
  },
  {
   "cell_type": "code",
   "execution_count": 20,
   "id": "47e36212-2288-459b-9e07-b102b54c6122",
   "metadata": {},
   "outputs": [],
   "source": [
    "train_vectors = get_doc_vectors(X_train)"
   ]
  },
  {
   "cell_type": "code",
   "execution_count": 21,
   "id": "d9204f38-3207-4b9b-8866-a40dc62b2f0b",
   "metadata": {},
   "outputs": [],
   "source": [
    "test_vectors = get_doc_vectors(X_test)"
   ]
  },
  {
   "cell_type": "code",
   "execution_count": 22,
   "id": "9b87f7e0-7bae-4ef8-bcbb-8252e011f18b",
   "metadata": {},
   "outputs": [
    {
     "name": "stderr",
     "output_type": "stream",
     "text": [
      "/home/fouzankhan/anaconda3/lib/python3.11/site-packages/sklearn/linear_model/_logistic.py:458: ConvergenceWarning: lbfgs failed to converge (status=1):\n",
      "STOP: TOTAL NO. of ITERATIONS REACHED LIMIT.\n",
      "\n",
      "Increase the number of iterations (max_iter) or scale the data as shown in:\n",
      "    https://scikit-learn.org/stable/modules/preprocessing.html\n",
      "Please also refer to the documentation for alternative solver options:\n",
      "    https://scikit-learn.org/stable/modules/linear_model.html#logistic-regression\n",
      "  n_iter_i = _check_optimize_result(\n"
     ]
    },
    {
     "data": {
      "text/html": [
       "<style>#sk-container-id-1 {color: black;background-color: white;}#sk-container-id-1 pre{padding: 0;}#sk-container-id-1 div.sk-toggleable {background-color: white;}#sk-container-id-1 label.sk-toggleable__label {cursor: pointer;display: block;width: 100%;margin-bottom: 0;padding: 0.3em;box-sizing: border-box;text-align: center;}#sk-container-id-1 label.sk-toggleable__label-arrow:before {content: \"▸\";float: left;margin-right: 0.25em;color: #696969;}#sk-container-id-1 label.sk-toggleable__label-arrow:hover:before {color: black;}#sk-container-id-1 div.sk-estimator:hover label.sk-toggleable__label-arrow:before {color: black;}#sk-container-id-1 div.sk-toggleable__content {max-height: 0;max-width: 0;overflow: hidden;text-align: left;background-color: #f0f8ff;}#sk-container-id-1 div.sk-toggleable__content pre {margin: 0.2em;color: black;border-radius: 0.25em;background-color: #f0f8ff;}#sk-container-id-1 input.sk-toggleable__control:checked~div.sk-toggleable__content {max-height: 200px;max-width: 100%;overflow: auto;}#sk-container-id-1 input.sk-toggleable__control:checked~label.sk-toggleable__label-arrow:before {content: \"▾\";}#sk-container-id-1 div.sk-estimator input.sk-toggleable__control:checked~label.sk-toggleable__label {background-color: #d4ebff;}#sk-container-id-1 div.sk-label input.sk-toggleable__control:checked~label.sk-toggleable__label {background-color: #d4ebff;}#sk-container-id-1 input.sk-hidden--visually {border: 0;clip: rect(1px 1px 1px 1px);clip: rect(1px, 1px, 1px, 1px);height: 1px;margin: -1px;overflow: hidden;padding: 0;position: absolute;width: 1px;}#sk-container-id-1 div.sk-estimator {font-family: monospace;background-color: #f0f8ff;border: 1px dotted black;border-radius: 0.25em;box-sizing: border-box;margin-bottom: 0.5em;}#sk-container-id-1 div.sk-estimator:hover {background-color: #d4ebff;}#sk-container-id-1 div.sk-parallel-item::after {content: \"\";width: 100%;border-bottom: 1px solid gray;flex-grow: 1;}#sk-container-id-1 div.sk-label:hover label.sk-toggleable__label {background-color: #d4ebff;}#sk-container-id-1 div.sk-serial::before {content: \"\";position: absolute;border-left: 1px solid gray;box-sizing: border-box;top: 0;bottom: 0;left: 50%;z-index: 0;}#sk-container-id-1 div.sk-serial {display: flex;flex-direction: column;align-items: center;background-color: white;padding-right: 0.2em;padding-left: 0.2em;position: relative;}#sk-container-id-1 div.sk-item {position: relative;z-index: 1;}#sk-container-id-1 div.sk-parallel {display: flex;align-items: stretch;justify-content: center;background-color: white;position: relative;}#sk-container-id-1 div.sk-item::before, #sk-container-id-1 div.sk-parallel-item::before {content: \"\";position: absolute;border-left: 1px solid gray;box-sizing: border-box;top: 0;bottom: 0;left: 50%;z-index: -1;}#sk-container-id-1 div.sk-parallel-item {display: flex;flex-direction: column;z-index: 1;position: relative;background-color: white;}#sk-container-id-1 div.sk-parallel-item:first-child::after {align-self: flex-end;width: 50%;}#sk-container-id-1 div.sk-parallel-item:last-child::after {align-self: flex-start;width: 50%;}#sk-container-id-1 div.sk-parallel-item:only-child::after {width: 0;}#sk-container-id-1 div.sk-dashed-wrapped {border: 1px dashed gray;margin: 0 0.4em 0.5em 0.4em;box-sizing: border-box;padding-bottom: 0.4em;background-color: white;}#sk-container-id-1 div.sk-label label {font-family: monospace;font-weight: bold;display: inline-block;line-height: 1.2em;}#sk-container-id-1 div.sk-label-container {text-align: center;}#sk-container-id-1 div.sk-container {/* jupyter's `normalize.less` sets `[hidden] { display: none; }` but bootstrap.min.css set `[hidden] { display: none !important; }` so we also need the `!important` here to be able to override the default hidden behavior on the sphinx rendered scikit-learn.org. See: https://github.com/scikit-learn/scikit-learn/issues/21755 */display: inline-block !important;position: relative;}#sk-container-id-1 div.sk-text-repr-fallback {display: none;}</style><div id=\"sk-container-id-1\" class=\"sk-top-container\"><div class=\"sk-text-repr-fallback\"><pre>LogisticRegression()</pre><b>In a Jupyter environment, please rerun this cell to show the HTML representation or trust the notebook. <br />On GitHub, the HTML representation is unable to render, please try loading this page with nbviewer.org.</b></div><div class=\"sk-container\" hidden><div class=\"sk-item\"><div class=\"sk-estimator sk-toggleable\"><input class=\"sk-toggleable__control sk-hidden--visually\" id=\"sk-estimator-id-1\" type=\"checkbox\" checked><label for=\"sk-estimator-id-1\" class=\"sk-toggleable__label sk-toggleable__label-arrow\">LogisticRegression</label><div class=\"sk-toggleable__content\"><pre>LogisticRegression()</pre></div></div></div></div></div>"
      ],
      "text/plain": [
       "LogisticRegression()"
      ]
     },
     "execution_count": 22,
     "metadata": {},
     "output_type": "execute_result"
    }
   ],
   "source": [
    "logreg_model = LogisticRegression()\n",
    "logreg_model.fit(train_vectors, y_train)"
   ]
  },
  {
   "cell_type": "code",
   "execution_count": 23,
   "id": "a3e15c32-7702-4337-890a-0b07343af6d0",
   "metadata": {},
   "outputs": [
    {
     "name": "stdout",
     "output_type": "stream",
     "text": [
      "Logistic Regression Model:\n",
      "Accuracy: 0.3852892561983471\n",
      "Classification Report:\n",
      "              precision    recall  f1-score   support\n",
      "\n",
      "  __label__0       0.14      0.01      0.02       265\n",
      "  __label__1       0.31      0.25      0.27       302\n",
      " __label__10       0.56      0.74      0.64       337\n",
      " __label__11       0.33      0.58      0.42       310\n",
      " __label__12       0.25      0.31      0.28       299\n",
      " __label__13       0.24      0.43      0.31       286\n",
      " __label__14       0.40      0.08      0.14       330\n",
      " __label__15       0.30      0.77      0.43       310\n",
      " __label__16       0.17      0.09      0.12       298\n",
      " __label__17       0.24      0.35      0.28       297\n",
      " __label__18       0.00      0.00      0.00       217\n",
      " __label__19       0.00      0.00      0.00       193\n",
      "  __label__2       0.55      0.44      0.49       323\n",
      "  __label__3       0.48      0.50      0.49       348\n",
      "  __label__4       0.45      0.26      0.33       317\n",
      "  __label__5       0.53      0.64      0.58       326\n",
      "  __label__6       0.58      0.75      0.65       322\n",
      "  __label__7       0.60      0.44      0.51       325\n",
      "  __label__8       0.40      0.42      0.41       327\n",
      "  __label__9       0.30      0.25      0.27       318\n",
      "\n",
      "    accuracy                           0.39      6050\n",
      "   macro avg       0.34      0.37      0.33      6050\n",
      "weighted avg       0.36      0.39      0.35      6050\n",
      "\n"
     ]
    },
    {
     "name": "stderr",
     "output_type": "stream",
     "text": [
      "/home/fouzankhan/anaconda3/lib/python3.11/site-packages/sklearn/metrics/_classification.py:1344: UndefinedMetricWarning: Precision and F-score are ill-defined and being set to 0.0 in labels with no predicted samples. Use `zero_division` parameter to control this behavior.\n",
      "  _warn_prf(average, modifier, msg_start, len(result))\n",
      "/home/fouzankhan/anaconda3/lib/python3.11/site-packages/sklearn/metrics/_classification.py:1344: UndefinedMetricWarning: Precision and F-score are ill-defined and being set to 0.0 in labels with no predicted samples. Use `zero_division` parameter to control this behavior.\n",
      "  _warn_prf(average, modifier, msg_start, len(result))\n",
      "/home/fouzankhan/anaconda3/lib/python3.11/site-packages/sklearn/metrics/_classification.py:1344: UndefinedMetricWarning: Precision and F-score are ill-defined and being set to 0.0 in labels with no predicted samples. Use `zero_division` parameter to control this behavior.\n",
      "  _warn_prf(average, modifier, msg_start, len(result))\n"
     ]
    }
   ],
   "source": [
    "logreg_predictions = logreg_model.predict(test_vectors)\n",
    "logreg_accuracy = accuracy_score(y_test, logreg_predictions)\n",
    "logreg_classification_report = classification_report(y_test, logreg_predictions)\n",
    "\n",
    "print(\"Logistic Regression Model:\")\n",
    "print(f\"Accuracy: {logreg_accuracy}\")\n",
    "print(\"Classification Report:\")\n",
    "print(logreg_classification_report)"
   ]
  },
  {
   "cell_type": "code",
   "execution_count": 129,
   "id": "eebd263e-f89b-410a-9e81-70633a20f0a6",
   "metadata": {},
   "outputs": [],
   "source": [
    "max_sequence_length = 60 #assuming this vlaue"
   ]
  },
  {
   "cell_type": "code",
   "execution_count": 130,
   "id": "3965bdb1-803f-4f16-9c5d-43beec6a2f10",
   "metadata": {},
   "outputs": [],
   "source": [
    "X_train1, X_test1, y_train1, y_test1 = train_test_split(new_df['text'],new_df['label'],test_size = 0.33, random_state = 96)"
   ]
  },
  {
   "cell_type": "code",
   "execution_count": 131,
   "id": "84efb1d4-267b-4392-a844-f4b27e5e5003",
   "metadata": {},
   "outputs": [],
   "source": [
    "tokenizer = Tokenizer()\n",
    "tokenizer.fit_on_texts(X_train1)\n",
    "train_sequences = tokenizer.texts_to_sequences(X_train1)\n",
    "test_sequences = tokenizer.texts_to_sequences(X_test1)"
   ]
  },
  {
   "cell_type": "code",
   "execution_count": 132,
   "id": "7fcc9b4a-368d-43d1-9000-fce45df55a18",
   "metadata": {},
   "outputs": [],
   "source": [
    "train_padded = pad_sequences(train_sequences, maxlen=max_sequence_length, padding='post')\n",
    "test_padded = pad_sequences(test_sequences, maxlen=max_sequence_length, padding='post')\n",
    "vocab_size = len(tokenizer.word_index) + 1"
   ]
  },
  {
   "cell_type": "code",
   "execution_count": 133,
   "id": "06d5e3e6-0371-49aa-b460-911800ec5a0c",
   "metadata": {
    "scrolled": true
   },
   "outputs": [
    {
     "data": {
      "text/plain": [
       "13595     4\n",
       "9803      2\n",
       "16587     4\n",
       "9742     18\n",
       "1314     19\n",
       "         ..\n",
       "14182    10\n",
       "9049     15\n",
       "2483     12\n",
       "9912      0\n",
       "14834     4\n",
       "Name: label, Length: 12281, dtype: int64"
      ]
     },
     "execution_count": 133,
     "metadata": {},
     "output_type": "execute_result"
    }
   ],
   "source": [
    "y_train1"
   ]
  },
  {
   "cell_type": "code",
   "execution_count": 174,
   "id": "993fc289-a4a1-40a0-acdb-0da10d527801",
   "metadata": {},
   "outputs": [],
   "source": [
    "#from sklearn.preprocessing import LabelEncoder\n",
    "#y_train_encoded = label_encoder.fit_transform(y_train)\n",
    "#y_test_encoded = label_encoder.fit_transform(y_test)"
   ]
  },
  {
   "cell_type": "code",
   "execution_count": 134,
   "id": "52328a12-944b-4780-bc2a-515f081ed3e8",
   "metadata": {},
   "outputs": [
    {
     "name": "stdout",
     "output_type": "stream",
     "text": [
      "Epoch 1/8\n",
      "384/384 [==============================] - 256s 659ms/step - loss: 2.8604 - accuracy: 0.0893 - val_loss: 2.6902 - val_accuracy: 0.1099\n",
      "Epoch 2/8\n",
      "384/384 [==============================] - 263s 685ms/step - loss: 2.6316 - accuracy: 0.1145 - val_loss: 2.5440 - val_accuracy: 0.1393\n",
      "Epoch 3/8\n",
      "384/384 [==============================] - 262s 684ms/step - loss: 2.5316 - accuracy: 0.1352 - val_loss: 2.5907 - val_accuracy: 0.1301\n",
      "Epoch 4/8\n",
      "384/384 [==============================] - 295s 767ms/step - loss: 2.2947 - accuracy: 0.1791 - val_loss: 2.3459 - val_accuracy: 0.1815\n",
      "Epoch 5/8\n",
      "384/384 [==============================] - 308s 802ms/step - loss: 1.8709 - accuracy: 0.2978 - val_loss: 2.1277 - val_accuracy: 0.2668\n",
      "Epoch 6/8\n",
      "384/384 [==============================] - 325s 846ms/step - loss: 1.4397 - accuracy: 0.4546 - val_loss: 1.9879 - val_accuracy: 0.3679\n",
      "Epoch 7/8\n",
      "384/384 [==============================] - 293s 764ms/step - loss: 1.0029 - accuracy: 0.6328 - val_loss: 1.8687 - val_accuracy: 0.4635\n",
      "Epoch 8/8\n",
      "384/384 [==============================] - 279s 726ms/step - loss: 0.6563 - accuracy: 0.7648 - val_loss: 2.0296 - val_accuracy: 0.4830\n"
     ]
    },
    {
     "data": {
      "text/plain": [
       "<keras.src.callbacks.History at 0x7f65cc3f50d0>"
      ]
     },
     "execution_count": 134,
     "metadata": {},
     "output_type": "execute_result"
    }
   ],
   "source": [
    "lstm_model = Sequential()\n",
    "lstm_model.add(Embedding(input_dim=vocab_size, output_dim=350, input_length=max_sequence_length))\n",
    "lstm_model.add(LSTM(350, return_sequences=True))\n",
    "#lstm_model.add(Dropout(0.5))\n",
    "lstm_model.add(LSTM(300))\n",
    "#lstm_model.add(Dropout(0.5))\n",
    "lstm_model.add(Dense(200, activation='relu'))\n",
    "lstm_model.add(Dense(20, activation='softmax'))\n",
    "lstm_model.compile(optimizer='adam', loss='sparse_categorical_crossentropy', metrics=['accuracy'])\n",
    "lstm_model.fit(train_padded, y_train1, epochs=8, validation_data=(test_padded, y_test1))\n"
   ]
  },
  {
   "cell_type": "code",
   "execution_count": null,
   "id": "6981355b-b818-4a42-8db6-99ab894cd792",
   "metadata": {},
   "outputs": [
    {
     "name": "stdout",
     "output_type": "stream",
     "text": [
      "Epoch 1/20\n",
      "384/384 [==============================] - 295s 762ms/step - loss: 2.7751 - accuracy: 0.0946 - val_loss: 2.6254 - val_accuracy: 0.1066\n",
      "Epoch 2/20\n",
      "384/384 [==============================] - 274s 713ms/step - loss: 2.5695 - accuracy: 0.1252 - val_loss: 2.6128 - val_accuracy: 0.1117\n",
      "Epoch 3/20\n",
      "384/384 [==============================] - 291s 757ms/step - loss: 2.5462 - accuracy: 0.1338 - val_loss: 2.4357 - val_accuracy: 0.1655\n",
      "Epoch 4/20\n",
      "384/384 [==============================] - 268s 697ms/step - loss: 2.1009 - accuracy: 0.2318 - val_loss: 2.1547 - val_accuracy: 0.2423\n",
      "Epoch 5/20\n",
      "384/384 [==============================] - 252s 655ms/step - loss: 1.6694 - accuracy: 0.3544 - val_loss: 1.8191 - val_accuracy: 0.3514\n",
      "Epoch 6/20\n",
      "384/384 [==============================] - 271s 707ms/step - loss: 1.2058 - accuracy: 0.5346 - val_loss: 1.6722 - val_accuracy: 0.4481\n",
      "Epoch 7/20\n",
      "384/384 [==============================] - 275s 716ms/step - loss: 0.8115 - accuracy: 0.6889 - val_loss: 1.7441 - val_accuracy: 0.5127\n",
      "Epoch 8/20\n",
      "384/384 [==============================] - 320s 834ms/step - loss: 0.5428 - accuracy: 0.8012 - val_loss: 1.8075 - val_accuracy: 0.5511\n",
      "Epoch 9/20\n",
      "384/384 [==============================] - 286s 745ms/step - loss: 0.3592 - accuracy: 0.8779 - val_loss: 1.9351 - val_accuracy: 0.5522\n",
      "Epoch 10/20\n",
      "196/384 [==============>...............] - ETA: 2:08 - loss: 0.2455 - accuracy: 0.9182"
     ]
    }
   ],
   "source": [
    "#this is my largest model of lstm\n",
    "lstm_model = Sequential()\n",
    "lstm_model.add(Embedding(input_dim=vocab_size, output_dim=350, input_length=max_sequence_length))\n",
    "lstm_model.add(LSTM(350, return_sequences=True))\n",
    "#lstm_model.add(Dropout(0.5))\n",
    "lstm_model.add(LSTM(300))\n",
    "#lstm_model.add(Dropout(0.5))\n",
    "lstm_model.add(Dense(200, activation='relu'))\n",
    "lstm_model.add(Dense(20, activation='softmax'))\n",
    "lstm_model.compile(optimizer='adam', loss='sparse_categorical_crossentropy', metrics=['accuracy'])\n",
    "lstm_model.fit(train_padded, y_train1, epochs=20, validation_data=(test_padded, y_test1))\n"
   ]
  },
  {
   "cell_type": "code",
   "execution_count": 136,
   "id": "65ff9804-fca6-4418-851e-f4f82c505339",
   "metadata": {},
   "outputs": [
    {
     "name": "stdout",
     "output_type": "stream",
     "text": [
      "190/190 [==============================] - 18s 93ms/step\n",
      "Accuracy: 48.30%\n",
      "Confusion Matrix: [[ 64   3   0   0   0   0   1   4   1   1   2  20   2  10   4  27  19   1\n",
      "   71  35]\n",
      " [  0 111  27  28  30   4   6   4   5   2   0  16  44   5  20   0   0   0\n",
      "    0   0]\n",
      " [  0  31 109 100  22  16  14   1   2   0   1   7  14   3   2   0   1   0\n",
      "    0   0]\n",
      " [  0  22  25 162  51   3  53   4   1   0   0   3  21   0   2   0   0   0\n",
      "    1   0]\n",
      " [  0  25   2  46 172   0  28   2   2   0   0   2  23   2  11   0   1   0\n",
      "    1   0]\n",
      " [  0  23  94  11   3 166   1   1   1   1   0   8   8   2   5   0   0   0\n",
      "    2   0]\n",
      " [  0   5   2  18   8   1 227  15  12   7   0   0  12   8   6   0   0   0\n",
      "    0   1]\n",
      " [  0   4   0   2   0   0  53 159  48   8   0   3  20  10  12   0   6   0\n",
      "    0   0]\n",
      " [  0   3   0   0   0   0  12  33 175  28   1   7  10  29  13   0  14   0\n",
      "    1   1]\n",
      " [  0   4   0   0   0   0   1   4  26 197  29   2   4  30   3   0  13   0\n",
      "    4   1]\n",
      " [  0   1   0   0   0   0   0   2   5  60 228   2   1  20   1   0  12   0\n",
      "    5   0]\n",
      " [  2  16   1   0   3   4   2   1   2   0   0 159  12  17  32   0  27   4\n",
      "   22   6]\n",
      " [  0  31   2  11  17   0  27  26   8   0   0  12 102  12  50   0   1   0\n",
      "    0   0]\n",
      " [  3   1   1   2   0   0   2   2   7   2   1   8  10 153  45   0  41   1\n",
      "    6   1]\n",
      " [  1   8   1   0   1   1   2   3  11   2   0  22  34  71 145   0  21   0\n",
      "    4   3]\n",
      " [ 31   0   1   0   0   0   0   0   0   0   0  14   1   2   6 187  11   0\n",
      "   20  37]\n",
      " [  4   2   0   0   0   0   3   1   4   8   1  13   3  62  14   4 121   0\n",
      "   52   6]\n",
      " [  3   0   0   0   0   0   1   2   3   2   0  15   3   9   4   7  21 184\n",
      "   26  17]\n",
      " [  5   0   1   1   0   0   0   0   0   2   1  18   1  30  12   1  62   2\n",
      "   74   7]\n",
      " [ 20   1   0   1   0   0   1   0   2   0   1  14   5   9   6  49  24   1\n",
      "   32  27]]\n",
      "              precision    recall  f1-score   support\n",
      "\n",
      "           0     0.4812    0.2415    0.3216       265\n",
      "           1     0.3814    0.3675    0.3744       302\n",
      "           2     0.4098    0.3375    0.3701       323\n",
      "           3     0.4241    0.4655    0.4438       348\n",
      "           4     0.5603    0.5426    0.5513       317\n",
      "           5     0.8513    0.5092    0.6372       326\n",
      "           6     0.5230    0.7050    0.6005       322\n",
      "           7     0.6023    0.4892    0.5399       325\n",
      "           8     0.5556    0.5352    0.5452       327\n",
      "           9     0.6156    0.6195    0.6176       318\n",
      "          10     0.8604    0.6766    0.7575       337\n",
      "          11     0.4609    0.5129    0.4855       310\n",
      "          12     0.3091    0.3411    0.3243       299\n",
      "          13     0.3161    0.5350    0.3974       286\n",
      "          14     0.3690    0.4394    0.4011       330\n",
      "          15     0.6800    0.6032    0.6393       310\n",
      "          16     0.3063    0.4060    0.3492       298\n",
      "          17     0.9534    0.6195    0.7510       297\n",
      "          18     0.2305    0.3410    0.2751       217\n",
      "          19     0.1901    0.1399    0.1612       193\n",
      "\n",
      "    accuracy                         0.4830      6050\n",
      "   macro avg     0.5040    0.4714    0.4772      6050\n",
      "weighted avg     0.5171    0.4830    0.4898      6050\n",
      "\n",
      "[[7.77275943e-07 6.36122888e-04 3.83479260e-02 ... 1.73097618e-07\n",
      "  3.64269044e-06 1.84474715e-07]\n",
      " [1.05469517e-05 2.66152136e-02 3.86719778e-03 ... 5.83100757e-07\n",
      "  1.36647759e-05 3.14295517e-06]\n",
      " [3.66494199e-03 1.57734402e-03 8.96731974e-04 ... 1.25159265e-03\n",
      "  5.04009333e-03 5.60004730e-03]\n",
      " ...\n",
      " [1.09891100e-02 9.83285755e-02 1.96874999e-02 ... 2.90556764e-03\n",
      "  4.96232649e-03 1.17906686e-02]\n",
      " [5.44561517e-05 6.84302649e-05 6.09387571e-05 ... 1.92459847e-05\n",
      "  1.44618325e-05 9.88209576e-05]\n",
      " [1.90589650e-04 5.17546723e-05 9.98976029e-05 ... 9.81006015e-05\n",
      "  2.00213384e-04 3.29013827e-04]]\n"
     ]
    }
   ],
   "source": [
    "y_pred = lstm_model.predict(test_padded)\n",
    "y_pred_class = [np.argmax(element) for element in y_pred]\n",
    "acc = accuracy_score(y_test1, y_pred_class)\n",
    "print(f\"Accuracy: {acc * 100:.2f}%\")\n",
    "print(f\"Confusion Matrix: {confusion_matrix(y_test1,y_pred_class)}\")\n",
    "lstm_classification_report = classification_report(y_test1, y_pred_class, digits=4)\n",
    "print(lstm_classification_report)\n",
    "print(y_pred)"
   ]
  },
  {
   "cell_type": "code",
   "execution_count": 137,
   "id": "195cc94f-c135-40fc-a0b5-049ff30ee2d8",
   "metadata": {},
   "outputs": [
    {
     "name": "stdout",
     "output_type": "stream",
     "text": [
      "190/190 [==============================] - 17s 90ms/step - loss: 2.0296 - accuracy: 0.4830\n",
      "\n",
      "LSTM Model:\n",
      "Accuracy: 0.48297521471977234\n"
     ]
    }
   ],
   "source": [
    "# Evaluate LSTM Model the largest lstm model evaluations\n",
    "lstm_loss, lstm_accuracy = lstm_model.evaluate(test_padded, y_test1)\n",
    "\n",
    "print(\"\\nLSTM Model:\")\n",
    "print(f\"Accuracy: {lstm_accuracy}\")"
   ]
  },
  {
   "cell_type": "code",
   "execution_count": null,
   "id": "7af44249-7c31-4afd-be50-780c6f14291c",
   "metadata": {},
   "outputs": [],
   "source": [
    "####accuracy for the 20 epoch version of lstm\n",
    "y_pred = lstm_model.predict(test_padded)\n",
    "y_pred_class = [np.argmax(element) for element in y_pred]\n",
    "acc = accuracy_score(y_test1, y_pred_class)\n",
    "print(f\"Accuracy: {acc * 100:.2f}%\")\n",
    "print(f\"Confusion Matrix: {confusion_matrix(y_test1,y_pred_class)}\")\n",
    "lstm_classification_report = classification_report(y_test1, y_pred_class, digits=4)\n",
    "print(lstm_classification_report)\n",
    "print(y_pred)\n",
    "\n",
    "# Evaluate LSTM Model the largest lstm model evaluations\n",
    "lstm_loss, lstm_accuracy = lstm_model.evaluate(test_padded, y_test1)\n",
    "\n",
    "print(\"\\nLSTM Model:\")\n",
    "print(f\"Accuracy: {lstm_accuracy}\")"
   ]
  },
  {
   "cell_type": "code",
   "execution_count": null,
   "id": "64e13634-5078-429e-8bff-7cb79bba2570",
   "metadata": {},
   "outputs": [],
   "source": []
  },
  {
   "cell_type": "code",
   "execution_count": null,
   "id": "3bc28f7d-7b3c-44c4-b259-4f4845eae32e",
   "metadata": {},
   "outputs": [],
   "source": []
  },
  {
   "cell_type": "code",
   "execution_count": null,
   "id": "2cf6f393-ff76-4977-a303-ae46ddf5ea58",
   "metadata": {},
   "outputs": [],
   "source": []
  },
  {
   "cell_type": "code",
   "execution_count": null,
   "id": "dba0d527-d282-47ec-a587-14b9b34a3ca7",
   "metadata": {},
   "outputs": [],
   "source": []
  }
 ],
 "metadata": {
  "kernelspec": {
   "display_name": "Python 3 (ipykernel)",
   "language": "python",
   "name": "python3"
  },
  "language_info": {
   "codemirror_mode": {
    "name": "ipython",
    "version": 3
   },
   "file_extension": ".py",
   "mimetype": "text/x-python",
   "name": "python",
   "nbconvert_exporter": "python",
   "pygments_lexer": "ipython3",
   "version": "3.11.5"
  }
 },
 "nbformat": 4,
 "nbformat_minor": 5
}
