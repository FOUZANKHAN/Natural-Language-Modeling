{
 "cells": [
  {
   "cell_type": "code",
   "execution_count": 29,
   "id": "430eb086-f9fc-4483-a75b-f63ca0283cdb",
   "metadata": {
    "id": "430eb086-f9fc-4483-a75b-f63ca0283cdb"
   },
   "outputs": [],
   "source": [
    "from sklearn.datasets import fetch_20newsgroups\n",
    "import pandas as pd\n",
    "from sklearn.feature_extraction.text import CountVectorizer\n",
    "from sklearn.model_selection import train_test_split\n",
    "from sklearn.preprocessing import LabelEncoder\n",
    "from tensorflow.keras.preprocessing.text import Tokenizer\n",
    "from sklearn.feature_extraction.text import TfidfVectorizer\n",
    "from sklearn.metrics import accuracy_score, classification_report,confusion_matrix\n",
    "import re\n",
    "from nltk.corpus import stopwords\n",
    "from nltk.stem import PorterStemmer\n",
    "from bs4 import BeautifulSoup\n",
    "from unidecode import unidecode\n",
    "from gensim.models import Word2Vec\n",
    "from sklearn.linear_model import LogisticRegression\n",
    "from sklearn.pipeline import make_pipeline\n",
    "from nltk.stem import WordNetLemmatizer\n",
    "from tensorflow.keras.preprocessing.sequence import pad_sequences\n",
    "from tensorflow.keras.models import Sequential\n",
    "from tensorflow.keras.layers import Embedding, LSTM, Dense,Dropout, BatchNormalization\n",
    "from keras.optimizers import Adam\n",
    "from keras.callbacks import EarlyStopping\n",
    "import fasttext\n",
    "import numpy as np\n"
   ]
  },
  {
   "cell_type": "code",
   "execution_count": 28,
   "id": "2f30a19f-3ea6-4a99-96f8-a37fd5bcd8ac",
   "metadata": {
    "colab": {
     "base_uri": "https://localhost:8080/"
    },
    "id": "2f30a19f-3ea6-4a99-96f8-a37fd5bcd8ac",
    "outputId": "06a9c19a-096c-463e-e876-10eb70b28098"
   },
   "outputs": [
    {
     "name": "stdout",
     "output_type": "stream",
     "text": [
      "Requirement already satisfied: fasttext in /usr/local/lib/python3.10/dist-packages (0.9.2)\n",
      "Requirement already satisfied: pybind11>=2.2 in /usr/local/lib/python3.10/dist-packages (from fasttext) (2.11.1)\n",
      "Requirement already satisfied: setuptools>=0.7.0 in /usr/local/lib/python3.10/dist-packages (from fasttext) (67.7.2)\n",
      "Requirement already satisfied: numpy in /usr/local/lib/python3.10/dist-packages (from fasttext) (1.25.2)\n",
      "Requirement already satisfied: unidecode in /usr/local/lib/python3.10/dist-packages (1.3.8)\n"
     ]
    }
   ],
   "source": [
    "!pip install fasttext\n",
    "!pip install unidecode"
   ]
  },
  {
   "cell_type": "code",
   "execution_count": 30,
   "id": "9a2ba781-2a04-4843-9fa1-691df3f3d9db",
   "metadata": {
    "id": "9a2ba781-2a04-4843-9fa1-691df3f3d9db"
   },
   "outputs": [],
   "source": [
    "data = fetch_20newsgroups(subset='all', shuffle=True, remove=('headers', 'footers', 'quotes'))\n",
    "df = pd.DataFrame({'text': data.data, 'label': data.target})\n",
    "df = df[df['text'].apply(lambda x: len(x.strip()) > 0)]"
   ]
  },
  {
   "cell_type": "code",
   "execution_count": 31,
   "id": "fde82ddc-3d15-49de-ac32-8098dcd6270c",
   "metadata": {
    "colab": {
     "base_uri": "https://localhost:8080/"
    },
    "id": "fde82ddc-3d15-49de-ac32-8098dcd6270c",
    "outputId": "0c2d45b4-99d9-4b2b-ef92-dd01c3f44346"
   },
   "outputs": [
    {
     "data": {
      "text/plain": [
       "20"
      ]
     },
     "execution_count": 31,
     "metadata": {},
     "output_type": "execute_result"
    }
   ],
   "source": [
    "len(df['label'].value_counts())"
   ]
  },
  {
   "cell_type": "code",
   "execution_count": 32,
   "id": "4acd5283-fc5e-43de-9bf7-fdc3c7c9d40e",
   "metadata": {
    "id": "4acd5283-fc5e-43de-9bf7-fdc3c7c9d40e"
   },
   "outputs": [],
   "source": [
    "#df['text']"
   ]
  },
  {
   "cell_type": "code",
   "execution_count": 33,
   "id": "467584cc-b776-4b5b-b9cd-d6df49858793",
   "metadata": {
    "colab": {
     "base_uri": "https://localhost:8080/"
    },
    "id": "467584cc-b776-4b5b-b9cd-d6df49858793",
    "outputId": "5ab700d2-a181-45ec-cc0e-102103cb3ac0"
   },
   "outputs": [
    {
     "data": {
      "text/plain": [
       "0                                                                                                                                                                                                                                                                                                                                                                                                                                                                                                                                                                                                                                                                                                                                                                                                                                                                                                                                                                                                                                                                                                                                                                                                                                                                                                                                                                                                                                                                                                                                                                                                                                                                                                                                                                                                                                                                                                                                                                                                                                                                                                                                                                                                                                                                                                                                                                                                                                                                                                                                                                                                                                                                                                                                                                                                                                                                                                                                                                                                                                                                                                                                                                                                                                                                                                                                                                                                                                                                                                                                                                                                                                                                                                                                                                                                                                                                                                                                                                                                                                                                                                                                                                                                                                                                                                                                                                                                                                                                                                                                                                                                                                                                                                                                                                                                                                                                                                                                                                                                                                                                                                                                                                                                                                                                                                                                                                                                                                                                                                                                                                                                                                                                                                                                                                                                                                                                                                                                                                                                                                                                                                                                                                                                                                                                                                                                                                                                                                                                                                                                                                                                                                                            \\n\\nI am sure some bashers of Pens fans are pretty confused about the lack\\nof any kind of posts about the recent Pens massacre of the Devils. Actually,\\nI am  bit puzzled too and a bit relieved. However, I am going to put an end\\nto non-PIttsburghers' relief with a bit of praise for the Pens. Man, they\\nare killing those Devils worse than I thought. Jagr just showed you why\\nhe is much better than his regular season stats. He is also a lot\\nfo fun to watch in the playoffs. Bowman should let JAgr have a lot of\\nfun in the next couple of games since the Pens are going to beat the pulp out of Jersey anyway. I was very disappointed not to see the Islanders lose the final\\nregular season game.          PENS RULE!!!\\n\\n\n",
       "1                                                                                                                                                                                                                                                                                                                                                                                                                                                                                                                                                                                                                                                                                                                                                                                                                                                                                                                                                                                                                                                                                                                                                                                                                                                                                                                                                                                                                                                                                                                                                                                                                                                                                                                                                                                                                                                                                                                                                                                                                                                                                                                                                                                                                                                                                                                                                                                                                                                                                                                                                                                                                                                                                                                                                                                                                                                                                                                                                                                                                                                                                                                                                                                                                                                                                                                                                                                                                                                                                                                                                                                                                                                                                                                                                                                                                                                                                                                                                                                                                                                                                                                                                                                                                                                                                                                                                                                                                                                                                                                                                                                                                                                                                                                                                                                                                                                                                                                                                                                                                                                                                                                                                                                                                                                                                                                                                                                                                                                                                                                                                                                                                                                                                                                                                                                                                                                                                                                                                                                                                                                                                                                                                                                                                                                                                                                                                                                                                                                                                                                                                                                                                                                                                                                                                                                                                                                                                                                                                                                                                                                             My brother is in the market for a high-performance video card that supports\\nVESA local bus with 1-2MB RAM.  Does anyone have suggestions/ideas on:\\n\\n  - Diamond Stealth Pro Local Bus\\n\\n  - Orchid Farenheit 1280\\n\\n  - ATI Graphics Ultra Pro\\n\\n  - Any other high-performance VLB card\\n\\n\\nPlease post or email.  Thank you!\\n\\n  - Matt\\n\n",
       "2                                                                                                                                                                                                                                                                                                                                                                                                                                                                                                                                                                                                                                                                                                                                                                                                                                                                                                                                                                                                                                                                                                                                                                                                                                                                                                                                                                                                                                                                                                                                                                                                                                                                                                                                                                                                                                                                                                                                                                                                                                                                                                                                                                                                                                                                                                                                                                                                                                                                                                                                                                                                                                                                                                                                                                                                                                                                                                                                                                                                                                                                                                                                                                                                                                                                                                                                                                                                                                                                                                                                                                                                                                                                                                                                                                                                                                                                                                                                                                                                                                                                                                                                                                                                                                                                                                                                                                                                                                                                                                                                                                                                                                                                                                                                                                                                                                                                                                                                                                                                                                                                                                                                                                                                                                                                                                                                                                                                                                                                                                      \\n\\n\\n\\n\\tFinally you said what you dream about. Mediterranean???? That was new....\\n\\tThe area will be \"greater\" after some years, like your \"holocaust\" numbers......\\n\\n\\n\\n\\n\\t\\t*****\\n\\tIs't July in USA now????? Here in Sweden it's April and still cold.\\n\\tOr have you changed your calendar???\\n\\n\\n\\t\\t\\t\\t\\t\\t    ****************\\n\\t\\t\\t\\t\\t\\t    ******************\\n\\t\\t\\t    ***************\\n\\n\\n\\tNOTHING OF THE MENTIONED IS TRUE, BUT LET SAY IT's TRUE.\\n\\t\\n\\tSHALL THE AZERI WOMEN AND CHILDREN GOING TO PAY THE PRICE WITH\\n\\t\\t\\t\\t\\t\\t    **************\\n\\tBEING RAPED, KILLED AND TORTURED BY THE ARMENIANS??????????\\n\\t\\n\\tHAVE YOU HEARDED SOMETHING CALLED: \"GENEVA CONVENTION\"???????\\n\\tYOU FACIST!!!!!\\n\\n\\n\\n\\tOhhh i forgot, this is how Armenians fight, nobody has forgot\\n\\tyou killings, rapings and torture against the Kurds and Turks once\\n\\tupon a time!\\n      \\n       \\n\\n\\nOhhhh so swedish RedCross workers do lie they too? What ever you say\\n\"regional killer\", if you don't like the person then shoot him that's your policy.....l\\n\\n\\n\\t\\t\\t\\t\\t\\t\\t\\t\\t\\ti\\n\\t\\t\\t\\t\\t\\t\\t\\t\\t\\ti\\n\\t\\t\\t\\t\\t\\t\\t\\t\\t\\ti\\n\\tConfused?????\\t\\t\\t\\t\\t\\t\\t\\ti\\n\\t\\t\\t\\t\\t\\t\\t\\t\\t\\ti\\n        Search Turkish planes? You don't know what you are talking about.\\ti\\n        Turkey's government has announced that it's giving weapons  <-----------i\\n        to Azerbadjan since Armenia started to attack Azerbadjan\\t\\t\\n        it self, not the Karabag province. So why search a plane for weapons\\t\\n        since it's content is announced to be weapons?   \\n\\n\\tIf there is one that's confused then that's you! We have the right (and we do)\\n\\tto give weapons to the Azeris, since Armenians started the fight in Azerbadjan!\\n \\n\\n\\n\\tShoot down with what? Armenian bread and butter? Or the arms and personel \\n\\tof the Russian army?\\n\\n\\n\n",
       "3                                                                                                                                                                                                                                                                                                                                                                                                                                                                                                                                                                                                                                                                                                                                                                                                                                                                                                                                                                                                                                                                                                                                                                                                                                                                                                                                                                                                                                                                                                                                                                                                                                                                                                                                                                                                                                                                                                                                                                                                                                                                                                                                                                                                                                                                                                                                                                                                                                                                                                                                                                                                                                                                                                                                                                                                                                                                                                                                                                                                                                                                                                                                                                                                                                                                                                                                                                                                                                                                                                                                                                                                                                                                                                                                                                                                                                                                                                                                                                                                                                                                                                                                                                                                                                                                                                                                                                                                                                                                                                                                                                                                                                                                                                                                                                                                                                                                                                                                                                                                                                                                                                                                                                                                                                                                                                                                                                                                                                                                                                                                                                                                                                                                                                                                                                                                                                                                                                                                                                                                                                                                                                                                                                                                                                                                                                                                                                                                                                                                                                                                                                                  \\nThink!\\n\\nIt's the SCSI card doing the DMA transfers NOT the disks...\\n\\nThe SCSI card can do DMA transfers containing data from any of the SCSI devices\\nit is attached when it wants to.\\n\\nAn important feature of SCSI is the ability to detach a device. This frees the\\nSCSI bus for other devices. This is typically used in a multi-tasking OS to\\nstart transfers on several devices. While each device is seeking the data the\\nbus is free for other commands and data transfers. When the devices are\\nready to transfer the data they can aquire the bus and send the data.\\n\\nOn an IDE bus when you start a transfer the bus is busy until the disk has seeked\\nthe data and transfered it. This is typically a 10-20ms second lock out for other\\nprocesses wanting the bus irrespective of transfer time.\\n\n",
       "4                                                                                                                                                                                                                                                                                                                                                                                                                                                                                                                                                                                                                                                                                                                                                                                                                                                                                                                                                                                                                                                                                                                                                                                                                                                                                                                                                                                                                                                                                                                                                                                                                                                                                                                                                                                                                                                                                                                                                                                                                                                                                                                                                                                                                                                                                                                                                                                                                                                                                                                                                                                                                                                                                                                                                                                                                                                                                                                                                                                                                                                                                                                                                                                                                                                                                                                                                                                                                                                                                                                                                                                                                                                                                                                                                                                                                                                                                                                                                                                                                                                                                                                                                                                                                                                                                                                                                                                                                                                                                                                                                                                                                                                                                                                                                                                                                                                                                                                                                                                                                                                                                                                                                                                                                                                                                                                                                                                                                                                                                                                                                                                                                                                                                                                                                                                                                                                                                                                                                                                                                                                                                                                                                                                                                                                                                                                                                                                                                                                                                                                                                                                                                                                                                                            1)    I have an old Jasmine drive which I cannot use with my new system.\\n My understanding is that I have to upsate the driver with a more modern\\none in order to gain compatability with system 7.0.1.  does anyone know\\nof an inexpensive program to do this?  ( I have seen formatters for <$20\\nbuit have no idea if they will work)\\n \\n2)     I have another ancient device, this one a tape drive for which\\nthe back utility freezes the system if I try to use it.  THe drive is a\\njasmine direct tape (bought used for $150 w/ 6 tapes, techmar\\nmechanism).  Essentially I have the same question as above, anyone know\\nof an inexpensive beckup utility I can use with system 7.0.1\n",
       "5                                                                                                                                                                                                                                                                                                                                                                                                                                                                                                                                                                                                                                                                                                                                                                                                                                                                                                                                                                                                                                                                                                                                                                                                                                                                                                                                                                                                                                                                                                                                                                                                                                                                                                                                                                                                                                                                                                                                                                                                                                                                                                                                                                                                                                                                                                                                                                                                                                                                                                                                                                                                                                                                                                                                                                                                                                                                                                                                                                                                                                                                                                                                                                                                                                                                                                                                                                                                                                                                                                                                                                                                                                                                                                                                                                                                                                                                                                                                                                                                                                                                                                                                                                                                                                                                                                                                                                                                                                                                                                                                                                                                                                                                                                                                                                                                                                                                                                                                                                                                                                                                                                                                                                                                                                                                                                                                                                                                                                                                                                                                                                                                                                                                                                                                                                                                                                                                                                                                                                                                                                                                                                                                                                                                                                                                                                                                                                                                                                                                                                                                                                                                                                                                                                                                                                                                                                                                                                                                                                                                  \\n\\nBack in high school I worked as a lab assistant for a bunch of experimental\\npsychologists at Bell Labs.  When they were doing visual perception and\\nmemory experiments, they used vector-type displays, with 1-millisecond\\nrefresh rates common.\\n\\nSo your case of 1/200th sec is quite practical, and the experimenters were\\nprobably sure that it was 5 milliseconds, not 4 or 6 either.\\n\\n\\nSteve\n",
       "6                                                                                                                                                                                                                                                                                                                                                                                                                                                                                                                                                                                                                                                                                                                                                                                                                                                                                                                                                                                                                                                                                                                                                                                                                                                                                                                                                                                                                                                                                                                                                                                                                                                                                                                                                                                                                                                                                                                                                                                                                                                                                                                                                                                                                                                                                                                                                                                                                                                                                                                                                                                                                                                                                                                                                                                                                                                                                                                                                                                                                                                                                                                                                                                                                                                                                                                                                                                                                                                                                                                                                                                                                                                                                                                                                                                                                                                                                                                                                                                                                                                                                                                                                                                                                                                                                                                                                                                                                                                                                                                                                                                                                                                                                                                                                                                                                                                                                                                                                                                                                                                                                                                                                                                                                                                                                                                                                                                                                                                                                                                                                                                                                                                                                                                                                                                                                                                                                                                                                                                                                                                                                                                                                                                                                                                                                                                                                                                                                                                                                                                                                                                                                                                                                                                                                                                                                                                                                                                                                                                                                                                                                                                                                                                                                                                                       \\n\\nAE is in Dallas...try 214/241-6060 or 214/241-0055.  Tech support may be on\\ntheir own line, but one of these should get you started.\n",
       "7                                                                                                                                                                                                                                                                                                                                                                                                                                                                                                                                                                                                                                                                                                                                                                                                                                                                                                                                                                                                                                                                                                                                                                                                                                                                                                                                                                                                                                                                                                                                                                                                                                                                                                                                                                                                                                                                                                                                                                                                                                                                                                                                                                                                                                                                                                                                                                                                                                                                                                                                                                                                                                                                                                                                                                                                                                                                                                                                                                                                                                                                                                                                                                                                                                                                                                                                                                                                                                                                                                                                                                                                                                                                                                                                                                                                                                                                                                                                                                                                                                                                                                                                                                                                                                                                                                                                                                                                                                                                                                                                                                                                                                                                                                                                                                                                                                                                                                                                                                                                                                                                                                                                                                                                                                                                                                                                                                                                                                                                                                                                                                                                                                                                                                                                                                                                                                                                                                                                                                                                                                                                                                                                                                                                                                                                                                                                                                                                                                                                                                                                                                                   \\n[stuff deleted]\\n\\nOk, here's the solution to your problem.  Move to Canada.  Yesterday I was able\\nto watch FOUR games...the NJ-PITT at 1:00 on ABC, LA-CAL at 3:00 (CBC), \\nBUFF-BOS at 7:00 (TSN and FOX), and MON-QUE at 7:30 (CBC).  I think that if\\neach series goes its max I could be watching hockey playoffs for 40-some odd\\nconsecutive nights (I haven't counted so that's a pure guess).\\n\\nI have two tv's in my house, and I set them up side-by-side to watch MON-QUE\\nand keep an eye on BOS-BUFF at the same time.  I did the same for the two\\nafternoon games.\\n\\nBtw, those ABC commentaters were great!  I was quite impressed; they seemed\\nto know that their audience wasn't likely to be well-schooled in hockey lore\\nand they did an excellent job.  They were quite impartial also, IMO.\\n\\n\n",
       "8                                                                                                                                                                                                                                                                                                                                                                                                                                                                                                                                                                                                                                                                                                                                                                                                                                                                                                                                                                                                                                                                                                                                                                                                                                                                                                                                                                                                                                                                                                                                                                                                                                                                                                                                                                                                                                                                                                                                                                                                                                                                                                                                                                                                                                                                                                                                                                                                                                                                                                                                                                                                                                                                                                                                                                                                                                                                                                                                                                                                                                                                                                                                                                                                                                                                                                                                                                                                                                                                                                                                                                                                                                                                                                                                                                                                                                                                                                                                                                                                                                                                                                                                                                                                                                                                                                                                                                                                                                                                                                                                                                                                                                                                                                                                                                                                                                                                                                                                                                                                                                                                                                                                                                                                                                                                                                                                                                                                                                                                                                                                                                                                                                                                                                                                                                                                                                                                                                                                                                                                                                                                                                                                                                                                                                                                                                                                                                                                                                                                                                                                                                                                                                                                                                                                                                                                                                                                                                                                                                                                                                                                                  \\n\\n\\nYeah, it's the second one.  And I believe that price too.  I've been trying\\nto get a good look at it on the Bruin-Sabre telecasts, and wow! does it ever\\nlook good.  Whoever did that paint job knew what they were doing.  And given\\nFuhr's play since he got it, I bet the Bruins are wishing he didn't have it:)\\n\n",
       "9                                                                                                                                                                                                                                                                                                                                                                                                                                                                                                                                                                                                                                                                                                                                                                                                                                                                                                                                                                                                                                                                                                                                                                                                                                                                                                                                                                                                                                                                                                                                                                                                                                                                                                                                                                                                                                                                                                                                                                                                                                                                                                                                                                                                                                                                                                                                                                                                                                                                                                                                                                                                                                                                                                                                                                                                                                                                                                                                                                                                                                                                                                                                                                                                                                                                                                                                                                                                                                                                                                                                                                                                                                                                                                                                                                                                                                                                                                                                                                                                                                                                                                                                                                                                                                                                                                                                                                                                                                                                                                                                                                                                                                                                                                                                                                                                                                                                                                                                                                                                                                                                                                                                                                                                                                                                                                                                                                                                                                                                                                                                                                                                                                                                                                                                                                                                                                                                                                                                                                                                                                                                                                                                                                                                                                                                                                                                                                                                                                                                                                                                                                                                                                                                                                                                                                                                                                                                                                                                                                       \\nIf a Christian means someone who believes in the divinity of Jesus, it is safe\\nto say that Jesus was a Christian.\\n--\\n\"On the first day after Christmas my truelove served to me...  Leftover Turkey!\\nOn the second day after Christmas my truelove served to me...  Turkey Casserole\\n    that she made from Leftover Turkey.\\n[days 3-4 deleted] ...  Flaming Turkey Wings! ...\\n   -- Pizza Hut commercial (and M*tlu/A*gic bait)\n",
       "10                                                                                                                                                                                                                                                                                                                                                                                                                                                                                                                                                                                                                                                                                                                                                                                                                                                                                                                                                                                                                                                                                                                                                                                                                                                                                                                                                                                                                                                                                                                                                                                                                                                                                                                                                                                                                                                                                                                                                                                                                                                                                                                                                                                                                                                                                                                                                                                                                                                                                                                                                                                                                                                                                                                                                                                                                                                                                                                                                                                                                                                                                                                                                                                                                                                                                                                                                                                                                                                                                                                                                                                                                                                                                                                                                                                                                                                                                                                                                                                                                                                                                                                                                                                                                                                                                                                                                                                                                                                                                                                                                                                                                                                                                                                                                                                                                                                                                                                                                                                                                                                                                                                                                                                                                                                                                                                                                                                                                                                                                                                                                                                                                                                                                                                                                                                                                                                                                                                                                                                                                                                                                                                                                                                                                                                                                                                                                                                                                                                                                                                                                                                                                                                                                                                                                                                                                                                                                                                                                                                                                                                                                                                                                                       the blood of the lamb.\\n\\nThis will be a hard task, because most cultures used most animals\\nfor blood sacrifices. It has to be something related to our current\\npost-modernism state. Hmm, what about used computers?\\n\\nCheers,\\nKent\n",
       "11                                                                                                                                                                                                                                                                                                                                                                                                                                                                                                                                                                                                                                                                                                                                                                                                                                                                                                                                                                                                                                                                                                                                                                                                                                                                                                                                                                                                                                                                                                                                                                                                                                                                                                                                                                                                                                                                                                                                                                                                                                                                                                                                                                                                                                                                                                                                                                                                                                                                                                                                                                                                                                                                                                                                                                                                                                                                                                                                                                                                                                                                                                                                                                                                                                                                                                                                                                                                                                                                                                                                                                                                                                                                                                                                                                                                                                                                                                                                                                                                                                                                                                                                                                                                                                                                                                                                                                                                                                                                                                                                                                                                                                                                                                                                                                                                                                                                                                                                                                                                                                                                                                                                                                                                                                                                                                                                                                                                                                                                                                                                                                                                                                                                                                                                                                                                                                                                                                                                                                                                                                                                                                                                                                                                                                                                                                                                                                                                                                                                                                                                                                                                                                                                                                                                                                                                                                                                                                                                                                                                                                                                                                                                                                                                                                                                                                                                                    >say they have a \"history of untrustworthy behavoir[sic]\"? \n",
       "12    930418\\n\\nDo what thou wilt shall be the whole of the Law. [Honestly.]\\nThe word of Sin is Restriction. [Would I kid you?]\\n\\n\\nDoes one man's words encompass the majestic vision of thousands\\nof individuals?  Quoting a man is not the same as quoting the\\nOrder.  Taken out of context, words can be interpreted much\\ndifferently than had one applied them within the confines of\\ntheir original expression.\\n\\nI think this is the case regarding Hymenaeus Beta, Frater Superior \\nof the Order to which I belong.  When he included that bit\\nfrom Merlinus X' he did us all a service.  He showed us the extremes\\nto which Order members have been known to go in their fervor.\\nI have little knowledge regarding Reuss' background, but surely\\nhe was an unusual man, and he was an important force in the Order \\nfor many years.\\n\\nYet as people change so do Orders change, and while we look back\\nso carefully at the dirty laundry of O.T.O. remember that this is\\nonly the surface skim and that many perspectives are now encompassed\\nwhich extend beyond any one individual.  I hope to show that there\\nwas and is much room for a difference of opinion within the Order\\nitself, perhaps by testing the limits myself.\\n\\n\\nLet us examine this issue a bit more closely....\\n\\n\"In 1895, Karl Kellner (1850-1905), a wealthy Austrian industrialist\\nand paper chemist, as well as a high-grade Mason, founded the Ordo\\nTempli Orientis.  Kellner had traveled widely in the East, where he\\nmet three adepts who instructed him specific magical practices.  \\nKellner's efforts to develop the Order were later assisted by Franz\\nHartmann, Heinrich Klein and Theodore Reuss, who had worked together\\nprior to joining the O.T.O.  The Order was first proclaimed in 1902\\nin Reuss's Masonic publication, 'Oriflamme'.  On Kellner's death,\\nReuss succeeded him as Outer Head [O.H.O.].  The 'Jubilee' edition of\\nthe 'Oriflamme', published in 1912, announced that the Order taught\\nsecret of sexual magic.\\n \\n\"Theodore Reuss was an interesting character.  Born June 28, 1855 in\\nAugsburg, he entered Masonry in 1876.  He was a singer, journalist and\\npossibly a spy for the Prussian political police, infiltrating the Socialist\\nLeague founded by Karl Marx's daughter and her husband.  Reuss was\\nlater associated with William Wynn Westcott, a leader of the Golden\\nDawn, who later introduced him to John Yarker.  Yarker chartered Reuss to\\nfound the Rites of Memphis and Mizraim in Germany.  After several\\nattempts to concretize various Masonic Rites, Reuss settled on the\\ndevelopment of the O.T.O.\\n\\n\"The Order experienced reasonably steady growth under Reuss' leadership.\\nFor example, he chartered Papus in France, Rudolph Steiner in Berlin\\nand H. Spencer Lewis in the USA.  In 1912, the historic meeting between\\nReuss and Crowley occurred.  Crowley wrote that Reuss came to him and\\naccused him of revealing Order secrets.  When Crowley looked at it afresh,\\nthe initiated interpretation of sexual magick unfolded itself to him for\\nthe first time.  Reuss appointed Crowley as Supreme and Holy King of all\\nthe English speaking world, and it was this authorization that he invoked\\nwhen publishing the material of the Equinox.\\n\\n\"Reuss resigned as Outer Head of the Order in 1922 after suffering a\\nstroke and named Crowley his successor.  All was well until 1925 when\\n_The Book of the Law_ was translated into German.  There was a break\\nin the continuity of the Order.  Manyk members split with the new O.H.O.\\nover the book, which Crowley was actively promulgating through the Order.\\nHe had earlier revise dthe Order rituals at Reuss's request, deeply\\ninfusing the doctrines of the New Aeon revelation.\"\\n\\n_An Introduction to the History of the O.T.O._, by Ad Veritatem IX'\\n\\nWithin _Equinox III:10_, Edited by \\n  Hymenaeus Beta, Frater Superior, Rex Summus Sanctissimus,\\n    Caliph of the United States of America,\\n      Published by Samuel Weiser, 1990.\\n\\n\\n\\nThere are many possible reasons that our Frater Superior included this\\nmaterial in _Equinox III:10_.  And this is the real point, is it not?\\nWhy did he wish to publish such things about the history of his own\\norganization?  Does he represent a dogmatic threat to the principle\\nof Thelema?  Or is he exercising his True Will and putting forth very\\ncomplex pictures with no easy answers?  A picture which leaves room\\nfor very many interpretations.\\n\\nIt is quite easy for me to see, for example, that all of O.T.O. derived\\nout of the dribble of faltering Masonry, purchased by clever hucksters\\nwith an ounce of courage and some writing ability to aid them.  And I\\ncan take that all the way down to our present Caliph, whose feeble\\nsupport of the 'Law of Thelema' is laughable at best.\\n\\nWould I be thrown out of the Order for speaking in this way?  \\nWill I?  \\nI think not.\\nWhy?  Because my Frater will see it as a perspective, an interjection\\nI am using as an example.  My illustration shows that we may express things\\nin the context of a larger work and the true significance of this may be\\nquite difficult to apprehend at first.\\n\\nSo it may be with OTO and Merlinus X'.  Please look O.T.O. more carefully.\\nI do not support Reuss's words myself, as I am not qualified to assess\\nthem, and I am critical of their pomposity.  If I who am a member of\\nthe Order take such a stand and am allowed to continue doing so, then\\nwhat can this say about the health of the Order?  Does it mean that\\nthe Order has 'gone soft' and abandoned its moral principles?  Or\\ndoes it mean that it is strong in its ability to let the will of\\nuniversal kinship arise on its own, not shackled by some dogmatic\\nrequirement?  How shall we resolve these two possibilities?\\n\\n\\nI find a high calibre of individual associated with Ordo Templi Orientis.\\nThey are often quite intelligent and sometimes very well versed in arcane\\nor usual information.  They are quite often artists and geniuses.  \\nHaving met some 20 longstanding members in the SF Bay Area (many who are or\\nwere very heavily involved with the Order), I can vouch for the integrity\\nof the organization as it stands.\\n\\nI have sometimes questioned the policy of Hymenaeus Beta.  In these moments \\nI followed my intuition, and I've found little to stop me from requesting\\na Second initiation from a different O.T.O. body.  I'm happily participating\\nin social groups (Feasts or Initiations) and have come to know the Gnostic\\nMass well enough for my tastes.\\n \\n\\nThis doesn't make me an authority on Order politics and explanations, however.\\nI can only hypothesize and relay to you what I understand based on my\\nlimited contact with other members.\\n\\nI urge you not to take the words of Merlinus X too far.  There are many\\nways to interpret words, and many people who have become involved with\\nthe Order feel very strongly about the sanctity of personal freedom\\nand the preservation of individual vision.\\n\\nI welcome other comment on this issue and will be writing more in response\\nto other posts in this thread.\\n\\n\\nInvoke me under my stars.  Love is the law, love under will.\\n\\nI am I!\n",
       "13                                                                                                                                                                                                                                                                                                                                                                                                                                                                                                                                                                                                                                                                                                                                                                                                                                                                                                                                                                                                                                                                                                                                                                                                                                                                                                                                                                                                                                                                                                                                                                                                                                                                                                                                                                                                                                                                                                                                                                                                                                                                                                                                                                                                                                                                                                                                                                                                                                                                                                                                                                                                                                                                                                                                                                                                                                                                                                                                                                                                                                                                                                                                                                                                                                                                                                                                                                                                                                                                                                                                                                                                                                                                                                                                                                                                                                                                                                                                                                                                                                                                                                                                                                                                                                                                                                                                                                                                                                                                                                                                                                                                                                                                                                                                                                                                                                                                                                                                                                                                                                                                                                                                                                                                                                                                                                                                                                                                                                                                                                                                                                                                                                                                                                                                                                                                                                                                                                                                                                                                                                                                                                                                                                                                                                                                                                                                                                                                                                                                                                                                                                                                                                                                                                                                                                                                                                                                                                                                                                                                                                                                                                                               How about Kirlian imaging ? I believe the FAQ for sci.skeptics (sp?)\\n has a nice write-up on this. They would certainly be most supportive\\n on helping you to build such a device and connect to a 120Kvolt\\n supply so that you can take a serious look at your \"aura\"... :-)\n",
       "14                                                                                                                                                                                                                                                                                                                                                                                                                                                                                                                                                                                                                                                                                                                                                                                                                                                                                                                                                                                                                                                                                                                                                                                                                                                                                                                                                                                                                                                                                                                                                                                                                                                                                                                                                                                                                                                                                                                                                                                                                                                                                                                                                                                                                                                                                                                                                                                                                                                                                                                                                                                                                                                                                                                                                                                                                                                                                                                                                                                                                                                                                                                                                                                                                                                                                                                                                                                                                                                                                                                                                                                                                                                                                                                                                                                                                                                                                                                                                                                                                                                                                                                                                                                                                                                                                                                                                                                                                                                                                                                                                                                                                                                                                                                                                                                                                                                                                                                                                                                                                                                                                                                                                                                                                                                                                                                                                                                                                                                                                                                                                                                                                                                                                                                                                                                                                                                                                                                                                                                                                                                                                                                                                                                                                                                                                                                                                                                                                                                                                                                                                                                                                                                                                                                                                                                                                                                                                                                                                                                                                                                                                                                                                                                                                                               \\n\\n\\tThere is no notion of heliocentric, or even galacticentric either.\\n\\n\\n\\n--------------------------------------------------------------------------------\n",
       "Name: text, dtype: object"
      ]
     },
     "execution_count": 33,
     "metadata": {},
     "output_type": "execute_result"
    }
   ],
   "source": [
    "pd.set_option('display.max_colwidth', None)\n",
    "df['text'].head(15)\n"
   ]
  },
  {
   "cell_type": "code",
   "execution_count": 34,
   "id": "e8ca3970-b679-4e73-8b46-f15ff1c1a723",
   "metadata": {
    "id": "e8ca3970-b679-4e73-8b46-f15ff1c1a723"
   },
   "outputs": [],
   "source": [
    "def preprocess_text(df_column):\n",
    "    # Remove HTML tags\n",
    "    df_column = df_column.apply(BeautifulSoup, args=('html.parser',)).apply(lambda x: x.get_text())\n",
    "\n",
    "    # Removing accented characters\n",
    "    df_column = df_column.apply(unidecode)\n",
    "    df_column = df_column.str.lower()\n",
    "    df_column = df_column.apply(lambda x: re.sub(r'[^a-zA-Z\\s]', '', x))\n",
    "    # Stemming\n",
    "    #stemmer = PorterStemmer()\n",
    "    #df_column = df_column.apply(lambda x: ' '.join([stemmer.stem(word) for word in x.split()]))\n",
    "    lemmatizer = WordNetLemmatizer()\n",
    "    df_column = df_column.apply(lambda x: ' '.join([lemmatizer.lemmatize(word) for word in x.split()]))\n",
    "\n",
    "    # Removing stop-words\n",
    "    stop_words = set(stopwords.words('english'))\n",
    "    df_column = df_column.apply(lambda x: ' '.join([word for word in x.split() if word.lower() not in stop_words]))\n",
    "\n",
    "\n",
    "    return df_column"
   ]
  },
  {
   "cell_type": "code",
   "execution_count": 35,
   "id": "f6k_3tx_-omh",
   "metadata": {
    "colab": {
     "base_uri": "https://localhost:8080/"
    },
    "id": "f6k_3tx_-omh",
    "outputId": "c37f58ca-fc42-40d3-904c-b6e23f82332e"
   },
   "outputs": [
    {
     "name": "stderr",
     "output_type": "stream",
     "text": [
      "[nltk_data] Downloading package wordnet to /root/nltk_data...\n",
      "[nltk_data]   Package wordnet is already up-to-date!\n",
      "[nltk_data] Downloading package stopwords to /root/nltk_data...\n",
      "[nltk_data]   Package stopwords is already up-to-date!\n"
     ]
    },
    {
     "data": {
      "text/plain": [
       "True"
      ]
     },
     "execution_count": 35,
     "metadata": {},
     "output_type": "execute_result"
    }
   ],
   "source": [
    "import nltk\n",
    "nltk.download('wordnet')\n",
    "nltk.download('stopwords')"
   ]
  },
  {
   "cell_type": "code",
   "execution_count": 36,
   "id": "7a92b6ab-8ce5-4f9e-911d-1a4b7696442c",
   "metadata": {
    "colab": {
     "base_uri": "https://localhost:8080/"
    },
    "id": "7a92b6ab-8ce5-4f9e-911d-1a4b7696442c",
    "outputId": "419f4b2a-897a-4157-c6b9-416ba956a8fa"
   },
   "outputs": [
    {
     "name": "stderr",
     "output_type": "stream",
     "text": [
      "/usr/local/lib/python3.10/dist-packages/pandas/core/apply.py:142: MarkupResemblesLocatorWarning: The input looks more like a filename than markup. You may want to open this file and pass the filehandle into Beautiful Soup.\n",
      "  return func(x, *args, **kwargs)\n"
     ]
    }
   ],
   "source": [
    "df['text'] = preprocess_text(df['text'])"
   ]
  },
  {
   "cell_type": "code",
   "execution_count": 37,
   "id": "223f3b5f-74fc-4b3f-92db-943c961c5914",
   "metadata": {
    "id": "223f3b5f-74fc-4b3f-92db-943c961c5914"
   },
   "outputs": [],
   "source": [
    "df = df[['label','text']]"
   ]
  },
  {
   "cell_type": "code",
   "execution_count": 38,
   "id": "bb2c9d89-07a2-43ae-bb6f-e11aefaa75cb",
   "metadata": {
    "colab": {
     "base_uri": "https://localhost:8080/",
     "height": 516
    },
    "id": "bb2c9d89-07a2-43ae-bb6f-e11aefaa75cb",
    "outputId": "b778e4fa-a00c-4901-f695-8fd7b91e55f2"
   },
   "outputs": [
    {
     "data": {
      "application/vnd.google.colaboratory.intrinsic+json": {
       "summary": "{\n  \"name\": \"df\",\n  \"rows\": 18331,\n  \"fields\": [\n    {\n      \"column\": \"label\",\n      \"properties\": {\n        \"dtype\": \"number\",\n        \"std\": 5,\n        \"min\": 0,\n        \"max\": 19,\n        \"num_unique_values\": 20,\n        \"samples\": [\n          10,\n          18,\n          6\n        ],\n        \"semantic_type\": \"\",\n        \"description\": \"\"\n      }\n    },\n    {\n      \"column\": \"text\",\n      \"properties\": {\n        \"dtype\": \"string\",\n        \"num_unique_values\": 18205,\n        \"samples\": [\n          \"hello admin r running aix xr motif xdt want prevent user hitting cntlaltbkspc exit x ive tried invoking x xinit doesnt work xinit appends call xinitrc call x man page xinit help fact tell xinit script really binary file far way ive able accomplish feat add call x usrlppxdefaultsxserverrc would rather way doe anyone idea brian deford internet defordnetwrxnwcom open network inc usenet uunetnetwrxdeford commerce park dr tel reston va fax\",\n          \"thousand ten thousand arithmetic please skipjack ha possible key let assume bruteforce engine like hypothesized de microsecond per trial million chip thats trial per second year trial well maybe get chip running one trial per nanosecond build machine million chip sure year solution much pernicious problem scheme proposed building brute force machine test possible key half one escrow agent easy one chip one test per microsecond give one break every two week break give message involving phone xor scheme file one escrow agent give nothing improvement notice xoring truely random bit string allows arbitrary number escrow agent using xor sk escrowed key b two random bit string hand skab ska skb three escrow agent possible come encoding scheme match escrow pattern example fewer cooperating escrow agent give cracking agency benefit robert eachus\",\n          \"disagree end individual responsible hisher irrationality individual belief dogmatic religion symptom irrationality atheist agnostic would imagine yes wa point atheist would theoretically illequipped study philosophy religion christian yet persistence atheist among rank philosopher therefore conflict one religious belief lack thereof ability philosopher must great assert fact philosopher may nonreligious wa secondary point opposed science practiced theist careful science doe builtin defence faith dogma skepticism unfortunately foolproof wonderful little creature known theory many u believe theory evolution absolute proof theory true believe make sense quite bit faith involved well current belief deficient basically agree ideally true reality though acknowledge scientist human scientist ego bias scientist assume particular theory true refuse admit flaw theory ego problem whatever proceed spend time money trying come absolute proof theory remember cold fusion really agree spent far much money waco crisis believe especially considering outcome point wa mass suicide u rare jonestown wa guyana incidentally although footed bill cleanup u ha far important issue address compare number u citizen died mass suicide say number u soldier died one week vietnam war see point\"\n        ],\n        \"semantic_type\": \"\",\n        \"description\": \"\"\n      }\n    }\n  ]\n}",
       "type": "dataframe",
       "variable_name": "df"
      },
      "text/html": [
       "\n",
       "  <div id=\"df-806c2139-c98c-4613-9b98-28ee10a06c9d\" class=\"colab-df-container\">\n",
       "    <div>\n",
       "<style scoped>\n",
       "    .dataframe tbody tr th:only-of-type {\n",
       "        vertical-align: middle;\n",
       "    }\n",
       "\n",
       "    .dataframe tbody tr th {\n",
       "        vertical-align: top;\n",
       "    }\n",
       "\n",
       "    .dataframe thead th {\n",
       "        text-align: right;\n",
       "    }\n",
       "</style>\n",
       "<table border=\"1\" class=\"dataframe\">\n",
       "  <thead>\n",
       "    <tr style=\"text-align: right;\">\n",
       "      <th></th>\n",
       "      <th>label</th>\n",
       "      <th>text</th>\n",
       "    </tr>\n",
       "  </thead>\n",
       "  <tbody>\n",
       "    <tr>\n",
       "      <th>0</th>\n",
       "      <td>10</td>\n",
       "      <td>sure bashers pen fan pretty confused lack kind post recent pen massacre devil actually bit puzzled bit relieved however going put end nonpittsburghers relief bit praise pen man killing devil worse thought jagr showed much better regular season stats also lot fo fun watch playoff bowman let jagr lot fun next couple game since pen going beat pulp jersey anyway wa disappointed see islander lose final regular season game pen rule</td>\n",
       "    </tr>\n",
       "    <tr>\n",
       "      <th>1</th>\n",
       "      <td>3</td>\n",
       "      <td>brother market highperformance video card support vesa local bus mb ram doe anyone suggestionsideas diamond stealth pro local bus orchid farenheit ati graphic ultra pro highperformance vlb card please post email thank matt</td>\n",
       "    </tr>\n",
       "    <tr>\n",
       "      <th>2</th>\n",
       "      <td>17</td>\n",
       "      <td>finally said dream mediterranean wa new area greater year like holocaust number ist july usa sweden april still cold changed calendar nothing mentioned true let say true shall azeri woman child going pay price raped killed tortured armenian hearded something called geneva convention facist ohhh forgot armenian fight nobody ha forgot killing rapings torture kurd turk upon time ohhhh swedish redcross worker lie ever say regional killer dont like person shoot thats policyl confused search turkish plane dont know talking turkey government ha announced giving weapon azerbadjan since armenia started attack azerbadjan self karabag province search plane weapon since content announced weapon one thats confused thats right give weapon azeri since armenian started fight azerbadjan shoot armenian bread butter arm personel russian army</td>\n",
       "    </tr>\n",
       "    <tr>\n",
       "      <th>3</th>\n",
       "      <td>3</td>\n",
       "      <td>think scsi card dma transfer disk scsi card dma transfer containing data scsi device attached want important feature scsi ability detach device free scsi bus device typically used multitasking start transfer several device device seeking data bus free command data transfer device ready transfer data aquire bus send data ide bus start transfer bus busy disk ha seeked data transfered typically second lock process wanting bus irrespective transfer time</td>\n",
       "    </tr>\n",
       "    <tr>\n",
       "      <th>4</th>\n",
       "      <td>4</td>\n",
       "      <td>old jasmine drive cannot use new system understanding upsate driver modern one order gain compatability system doe anyone know inexpensive program seen formatters buit idea work another ancient device one tape drive back utility freeze system try use drive jasmine direct tape bought used w tape techmar mechanism essentially question anyone know inexpensive beckup utility use system</td>\n",
       "    </tr>\n",
       "    <tr>\n",
       "      <th>5</th>\n",
       "      <td>12</td>\n",
       "      <td>back high school worked lab assistant bunch experimental psychologist bell lab visual perception memory experiment used vectortype display millisecond refresh rate common case th sec quite practical experimenter probably sure wa millisecond either steve</td>\n",
       "    </tr>\n",
       "  </tbody>\n",
       "</table>\n",
       "</div>\n",
       "    <div class=\"colab-df-buttons\">\n",
       "\n",
       "  <div class=\"colab-df-container\">\n",
       "    <button class=\"colab-df-convert\" onclick=\"convertToInteractive('df-806c2139-c98c-4613-9b98-28ee10a06c9d')\"\n",
       "            title=\"Convert this dataframe to an interactive table.\"\n",
       "            style=\"display:none;\">\n",
       "\n",
       "  <svg xmlns=\"http://www.w3.org/2000/svg\" height=\"24px\" viewBox=\"0 -960 960 960\">\n",
       "    <path d=\"M120-120v-720h720v720H120Zm60-500h600v-160H180v160Zm220 220h160v-160H400v160Zm0 220h160v-160H400v160ZM180-400h160v-160H180v160Zm440 0h160v-160H620v160ZM180-180h160v-160H180v160Zm440 0h160v-160H620v160Z\"/>\n",
       "  </svg>\n",
       "    </button>\n",
       "\n",
       "  <style>\n",
       "    .colab-df-container {\n",
       "      display:flex;\n",
       "      gap: 12px;\n",
       "    }\n",
       "\n",
       "    .colab-df-convert {\n",
       "      background-color: #E8F0FE;\n",
       "      border: none;\n",
       "      border-radius: 50%;\n",
       "      cursor: pointer;\n",
       "      display: none;\n",
       "      fill: #1967D2;\n",
       "      height: 32px;\n",
       "      padding: 0 0 0 0;\n",
       "      width: 32px;\n",
       "    }\n",
       "\n",
       "    .colab-df-convert:hover {\n",
       "      background-color: #E2EBFA;\n",
       "      box-shadow: 0px 1px 2px rgba(60, 64, 67, 0.3), 0px 1px 3px 1px rgba(60, 64, 67, 0.15);\n",
       "      fill: #174EA6;\n",
       "    }\n",
       "\n",
       "    .colab-df-buttons div {\n",
       "      margin-bottom: 4px;\n",
       "    }\n",
       "\n",
       "    [theme=dark] .colab-df-convert {\n",
       "      background-color: #3B4455;\n",
       "      fill: #D2E3FC;\n",
       "    }\n",
       "\n",
       "    [theme=dark] .colab-df-convert:hover {\n",
       "      background-color: #434B5C;\n",
       "      box-shadow: 0px 1px 3px 1px rgba(0, 0, 0, 0.15);\n",
       "      filter: drop-shadow(0px 1px 2px rgba(0, 0, 0, 0.3));\n",
       "      fill: #FFFFFF;\n",
       "    }\n",
       "  </style>\n",
       "\n",
       "    <script>\n",
       "      const buttonEl =\n",
       "        document.querySelector('#df-806c2139-c98c-4613-9b98-28ee10a06c9d button.colab-df-convert');\n",
       "      buttonEl.style.display =\n",
       "        google.colab.kernel.accessAllowed ? 'block' : 'none';\n",
       "\n",
       "      async function convertToInteractive(key) {\n",
       "        const element = document.querySelector('#df-806c2139-c98c-4613-9b98-28ee10a06c9d');\n",
       "        const dataTable =\n",
       "          await google.colab.kernel.invokeFunction('convertToInteractive',\n",
       "                                                    [key], {});\n",
       "        if (!dataTable) return;\n",
       "\n",
       "        const docLinkHtml = 'Like what you see? Visit the ' +\n",
       "          '<a target=\"_blank\" href=https://colab.research.google.com/notebooks/data_table.ipynb>data table notebook</a>'\n",
       "          + ' to learn more about interactive tables.';\n",
       "        element.innerHTML = '';\n",
       "        dataTable['output_type'] = 'display_data';\n",
       "        await google.colab.output.renderOutput(dataTable, element);\n",
       "        const docLink = document.createElement('div');\n",
       "        docLink.innerHTML = docLinkHtml;\n",
       "        element.appendChild(docLink);\n",
       "      }\n",
       "    </script>\n",
       "  </div>\n",
       "\n",
       "\n",
       "<div id=\"df-4c376c10-6907-433a-80f3-2d851ee004b8\">\n",
       "  <button class=\"colab-df-quickchart\" onclick=\"quickchart('df-4c376c10-6907-433a-80f3-2d851ee004b8')\"\n",
       "            title=\"Suggest charts\"\n",
       "            style=\"display:none;\">\n",
       "\n",
       "<svg xmlns=\"http://www.w3.org/2000/svg\" height=\"24px\"viewBox=\"0 0 24 24\"\n",
       "     width=\"24px\">\n",
       "    <g>\n",
       "        <path d=\"M19 3H5c-1.1 0-2 .9-2 2v14c0 1.1.9 2 2 2h14c1.1 0 2-.9 2-2V5c0-1.1-.9-2-2-2zM9 17H7v-7h2v7zm4 0h-2V7h2v10zm4 0h-2v-4h2v4z\"/>\n",
       "    </g>\n",
       "</svg>\n",
       "  </button>\n",
       "\n",
       "<style>\n",
       "  .colab-df-quickchart {\n",
       "      --bg-color: #E8F0FE;\n",
       "      --fill-color: #1967D2;\n",
       "      --hover-bg-color: #E2EBFA;\n",
       "      --hover-fill-color: #174EA6;\n",
       "      --disabled-fill-color: #AAA;\n",
       "      --disabled-bg-color: #DDD;\n",
       "  }\n",
       "\n",
       "  [theme=dark] .colab-df-quickchart {\n",
       "      --bg-color: #3B4455;\n",
       "      --fill-color: #D2E3FC;\n",
       "      --hover-bg-color: #434B5C;\n",
       "      --hover-fill-color: #FFFFFF;\n",
       "      --disabled-bg-color: #3B4455;\n",
       "      --disabled-fill-color: #666;\n",
       "  }\n",
       "\n",
       "  .colab-df-quickchart {\n",
       "    background-color: var(--bg-color);\n",
       "    border: none;\n",
       "    border-radius: 50%;\n",
       "    cursor: pointer;\n",
       "    display: none;\n",
       "    fill: var(--fill-color);\n",
       "    height: 32px;\n",
       "    padding: 0;\n",
       "    width: 32px;\n",
       "  }\n",
       "\n",
       "  .colab-df-quickchart:hover {\n",
       "    background-color: var(--hover-bg-color);\n",
       "    box-shadow: 0 1px 2px rgba(60, 64, 67, 0.3), 0 1px 3px 1px rgba(60, 64, 67, 0.15);\n",
       "    fill: var(--button-hover-fill-color);\n",
       "  }\n",
       "\n",
       "  .colab-df-quickchart-complete:disabled,\n",
       "  .colab-df-quickchart-complete:disabled:hover {\n",
       "    background-color: var(--disabled-bg-color);\n",
       "    fill: var(--disabled-fill-color);\n",
       "    box-shadow: none;\n",
       "  }\n",
       "\n",
       "  .colab-df-spinner {\n",
       "    border: 2px solid var(--fill-color);\n",
       "    border-color: transparent;\n",
       "    border-bottom-color: var(--fill-color);\n",
       "    animation:\n",
       "      spin 1s steps(1) infinite;\n",
       "  }\n",
       "\n",
       "  @keyframes spin {\n",
       "    0% {\n",
       "      border-color: transparent;\n",
       "      border-bottom-color: var(--fill-color);\n",
       "      border-left-color: var(--fill-color);\n",
       "    }\n",
       "    20% {\n",
       "      border-color: transparent;\n",
       "      border-left-color: var(--fill-color);\n",
       "      border-top-color: var(--fill-color);\n",
       "    }\n",
       "    30% {\n",
       "      border-color: transparent;\n",
       "      border-left-color: var(--fill-color);\n",
       "      border-top-color: var(--fill-color);\n",
       "      border-right-color: var(--fill-color);\n",
       "    }\n",
       "    40% {\n",
       "      border-color: transparent;\n",
       "      border-right-color: var(--fill-color);\n",
       "      border-top-color: var(--fill-color);\n",
       "    }\n",
       "    60% {\n",
       "      border-color: transparent;\n",
       "      border-right-color: var(--fill-color);\n",
       "    }\n",
       "    80% {\n",
       "      border-color: transparent;\n",
       "      border-right-color: var(--fill-color);\n",
       "      border-bottom-color: var(--fill-color);\n",
       "    }\n",
       "    90% {\n",
       "      border-color: transparent;\n",
       "      border-bottom-color: var(--fill-color);\n",
       "    }\n",
       "  }\n",
       "</style>\n",
       "\n",
       "  <script>\n",
       "    async function quickchart(key) {\n",
       "      const quickchartButtonEl =\n",
       "        document.querySelector('#' + key + ' button');\n",
       "      quickchartButtonEl.disabled = true;  // To prevent multiple clicks.\n",
       "      quickchartButtonEl.classList.add('colab-df-spinner');\n",
       "      try {\n",
       "        const charts = await google.colab.kernel.invokeFunction(\n",
       "            'suggestCharts', [key], {});\n",
       "      } catch (error) {\n",
       "        console.error('Error during call to suggestCharts:', error);\n",
       "      }\n",
       "      quickchartButtonEl.classList.remove('colab-df-spinner');\n",
       "      quickchartButtonEl.classList.add('colab-df-quickchart-complete');\n",
       "    }\n",
       "    (() => {\n",
       "      let quickchartButtonEl =\n",
       "        document.querySelector('#df-4c376c10-6907-433a-80f3-2d851ee004b8 button');\n",
       "      quickchartButtonEl.style.display =\n",
       "        google.colab.kernel.accessAllowed ? 'block' : 'none';\n",
       "    })();\n",
       "  </script>\n",
       "</div>\n",
       "\n",
       "    </div>\n",
       "  </div>\n"
      ],
      "text/plain": [
       "   label  \\\n",
       "0     10   \n",
       "1      3   \n",
       "2     17   \n",
       "3      3   \n",
       "4      4   \n",
       "5     12   \n",
       "\n",
       "                                                                                                                                                                                                                                                                                                                                                                                                                                                                                                                                                                                                                                                                                                                                                                                                                                                                 text  \n",
       "0                                                                                                                                                                                                                                                                                                                                                                                                                       sure bashers pen fan pretty confused lack kind post recent pen massacre devil actually bit puzzled bit relieved however going put end nonpittsburghers relief bit praise pen man killing devil worse thought jagr showed much better regular season stats also lot fo fun watch playoff bowman let jagr lot fun next couple game since pen going beat pulp jersey anyway wa disappointed see islander lose final regular season game pen rule  \n",
       "1                                                                                                                                                                                                                                                                                                                                                                                                                                                                                                                                                                                                                                      brother market highperformance video card support vesa local bus mb ram doe anyone suggestionsideas diamond stealth pro local bus orchid farenheit ati graphic ultra pro highperformance vlb card please post email thank matt  \n",
       "2  finally said dream mediterranean wa new area greater year like holocaust number ist july usa sweden april still cold changed calendar nothing mentioned true let say true shall azeri woman child going pay price raped killed tortured armenian hearded something called geneva convention facist ohhh forgot armenian fight nobody ha forgot killing rapings torture kurd turk upon time ohhhh swedish redcross worker lie ever say regional killer dont like person shoot thats policyl confused search turkish plane dont know talking turkey government ha announced giving weapon azerbadjan since armenia started attack azerbadjan self karabag province search plane weapon since content announced weapon one thats confused thats right give weapon azeri since armenian started fight azerbadjan shoot armenian bread butter arm personel russian army  \n",
       "3                                                                                                                                                                                                                                                                                                                                                                                               think scsi card dma transfer disk scsi card dma transfer containing data scsi device attached want important feature scsi ability detach device free scsi bus device typically used multitasking start transfer several device device seeking data bus free command data transfer device ready transfer data aquire bus send data ide bus start transfer bus busy disk ha seeked data transfered typically second lock process wanting bus irrespective transfer time  \n",
       "4                                                                                                                                                                                                                                                                                                                                                                                                                                                                    old jasmine drive cannot use new system understanding upsate driver modern one order gain compatability system doe anyone know inexpensive program seen formatters buit idea work another ancient device one tape drive back utility freeze system try use drive jasmine direct tape bought used w tape techmar mechanism essentially question anyone know inexpensive beckup utility use system  \n",
       "5                                                                                                                                                                                                                                                                                                                                                                                                                                                                                                                                                                                                       back high school worked lab assistant bunch experimental psychologist bell lab visual perception memory experiment used vectortype display millisecond refresh rate common case th sec quite practical experimenter probably sure wa millisecond either steve  "
      ]
     },
     "execution_count": 38,
     "metadata": {},
     "output_type": "execute_result"
    }
   ],
   "source": [
    "df.head(6)"
   ]
  },
  {
   "cell_type": "code",
   "execution_count": 39,
   "id": "762dc744-58e2-456d-b8ae-56650c6ecaae",
   "metadata": {
    "id": "762dc744-58e2-456d-b8ae-56650c6ecaae"
   },
   "outputs": [],
   "source": [
    "df.to_csv('cleaned_dataset.csv', index=False)"
   ]
  },
  {
   "cell_type": "code",
   "execution_count": 40,
   "id": "8c34ecb4-0880-4ff5-b93f-120ac1e2f0a3",
   "metadata": {
    "id": "8c34ecb4-0880-4ff5-b93f-120ac1e2f0a3"
   },
   "outputs": [],
   "source": [
    "new_df = df"
   ]
  },
  {
   "cell_type": "code",
   "execution_count": 41,
   "id": "eebd263e-f89b-410a-9e81-70633a20f0a6",
   "metadata": {
    "id": "eebd263e-f89b-410a-9e81-70633a20f0a6"
   },
   "outputs": [],
   "source": [
    "max_sequence_length = 60 #assuming this vlaue"
   ]
  },
  {
   "cell_type": "code",
   "execution_count": 42,
   "id": "3965bdb1-803f-4f16-9c5d-43beec6a2f10",
   "metadata": {
    "id": "3965bdb1-803f-4f16-9c5d-43beec6a2f10"
   },
   "outputs": [],
   "source": [
    "X_train1, X_test1, y_train1, y_test1 = train_test_split(new_df['text'],new_df['label'],test_size = 0.33, random_state = 96)"
   ]
  },
  {
   "cell_type": "code",
   "execution_count": 43,
   "id": "84efb1d4-267b-4392-a844-f4b27e5e5003",
   "metadata": {
    "id": "84efb1d4-267b-4392-a844-f4b27e5e5003"
   },
   "outputs": [],
   "source": [
    "tokenizer = Tokenizer()\n",
    "tokenizer.fit_on_texts(X_train1)\n",
    "train_sequences = tokenizer.texts_to_sequences(X_train1)\n",
    "test_sequences = tokenizer.texts_to_sequences(X_test1)"
   ]
  },
  {
   "cell_type": "code",
   "execution_count": 44,
   "id": "7fcc9b4a-368d-43d1-9000-fce45df55a18",
   "metadata": {
    "id": "7fcc9b4a-368d-43d1-9000-fce45df55a18"
   },
   "outputs": [],
   "source": [
    "train_padded = pad_sequences(train_sequences, maxlen=max_sequence_length, padding='post')\n",
    "test_padded = pad_sequences(test_sequences, maxlen=max_sequence_length, padding='post')\n",
    "vocab_size = len(tokenizer.word_index) + 1"
   ]
  },
  {
   "cell_type": "code",
   "execution_count": 45,
   "id": "06d5e3e6-0371-49aa-b460-911800ec5a0c",
   "metadata": {
    "colab": {
     "base_uri": "https://localhost:8080/"
    },
    "id": "06d5e3e6-0371-49aa-b460-911800ec5a0c",
    "outputId": "6ebb0739-44ff-44e5-a3ae-7cc0254cdb8e",
    "scrolled": true
   },
   "outputs": [
    {
     "data": {
      "text/plain": [
       "13595     4\n",
       "9803      2\n",
       "16587     4\n",
       "9742     18\n",
       "1314     19\n",
       "         ..\n",
       "14182    10\n",
       "9049     15\n",
       "2483     12\n",
       "9912      0\n",
       "14834     4\n",
       "Name: label, Length: 12281, dtype: int64"
      ]
     },
     "execution_count": 45,
     "metadata": {},
     "output_type": "execute_result"
    }
   ],
   "source": [
    "y_train1"
   ]
  },
  {
   "cell_type": "code",
   "execution_count": null,
   "id": "993fc289-a4a1-40a0-acdb-0da10d527801",
   "metadata": {
    "id": "993fc289-a4a1-40a0-acdb-0da10d527801"
   },
   "outputs": [],
   "source": [
    "#from sklearn.preprocessing import LabelEncoder\n",
    "#y_train_encoded = label_encoder.fit_transform(y_train)\n",
    "#y_test_encoded = label_encoder.fit_transform(y_test)"
   ]
  },
  {
   "cell_type": "code",
   "execution_count": 25,
   "id": "edb417a3-a965-4be7-88b1-86b603323b7b",
   "metadata": {
    "colab": {
     "base_uri": "https://localhost:8080/"
    },
    "id": "edb417a3-a965-4be7-88b1-86b603323b7b",
    "outputId": "d1680146-2217-4f32-a794-e3314d678a8e"
   },
   "outputs": [
    {
     "name": "stdout",
     "output_type": "stream",
     "text": [
      "Epoch 1/50\n",
      "384/384 [==============================] - 43s 101ms/step - loss: 2.7636 - accuracy: 0.1002 - val_loss: 2.6594 - val_accuracy: 0.1140\n",
      "Epoch 2/50\n",
      "384/384 [==============================] - 17s 43ms/step - loss: 2.5651 - accuracy: 0.1528 - val_loss: 2.5141 - val_accuracy: 0.1673\n",
      "Epoch 3/50\n",
      "384/384 [==============================] - 9s 23ms/step - loss: 2.1531 - accuracy: 0.2568 - val_loss: 2.1828 - val_accuracy: 0.2620\n",
      "Epoch 4/50\n",
      "384/384 [==============================] - 8s 20ms/step - loss: 1.9306 - accuracy: 0.3515 - val_loss: 2.0478 - val_accuracy: 0.3063\n",
      "Epoch 5/50\n",
      "384/384 [==============================] - 8s 20ms/step - loss: 1.8933 - accuracy: 0.3780 - val_loss: 2.0585 - val_accuracy: 0.3311\n",
      "Epoch 6/50\n",
      "384/384 [==============================] - 5s 13ms/step - loss: 1.2952 - accuracy: 0.5614 - val_loss: 1.7848 - val_accuracy: 0.4438\n",
      "Epoch 7/50\n",
      "384/384 [==============================] - 7s 17ms/step - loss: 0.7952 - accuracy: 0.7350 - val_loss: 1.5388 - val_accuracy: 0.5569\n",
      "Epoch 8/50\n",
      "384/384 [==============================] - 5s 13ms/step - loss: 0.4564 - accuracy: 0.8567 - val_loss: 1.5588 - val_accuracy: 0.5937\n",
      "Epoch 9/50\n",
      "384/384 [==============================] - 7s 17ms/step - loss: 0.2653 - accuracy: 0.9214 - val_loss: 1.7252 - val_accuracy: 0.5947\n",
      "Epoch 10/50\n",
      "384/384 [==============================] - 5s 14ms/step - loss: 0.1593 - accuracy: 0.9542 - val_loss: 1.8957 - val_accuracy: 0.6012\n",
      "Epoch 11/50\n",
      "384/384 [==============================] - 5s 14ms/step - loss: 0.1044 - accuracy: 0.9707 - val_loss: 1.9804 - val_accuracy: 0.6117\n",
      "Epoch 12/50\n",
      "384/384 [==============================] - 5s 13ms/step - loss: 0.0791 - accuracy: 0.9794 - val_loss: 2.1167 - val_accuracy: 0.6031\n",
      "Epoch 13/50\n",
      "384/384 [==============================] - 5s 13ms/step - loss: 0.0552 - accuracy: 0.9863 - val_loss: 2.2336 - val_accuracy: 0.6055\n",
      "Epoch 14/50\n",
      "384/384 [==============================] - 6s 15ms/step - loss: 0.0426 - accuracy: 0.9883 - val_loss: 2.2266 - val_accuracy: 0.6134\n",
      "Epoch 15/50\n",
      "384/384 [==============================] - 4s 11ms/step - loss: 0.0337 - accuracy: 0.9920 - val_loss: 2.6491 - val_accuracy: 0.5878\n"
     ]
    },
    {
     "data": {
      "text/plain": [
       "<keras.src.callbacks.History at 0x7e7a66691360>"
      ]
     },
     "execution_count": 25,
     "metadata": {},
     "output_type": "execute_result"
    }
   ],
   "source": [
    "early_stop = EarlyStopping(monitor='val_loss', patience=8, restore_best_weights=True)\n",
    "\n",
    "lstm_model = Sequential()\n",
    "lstm_model.add(Embedding(input_dim=vocab_size, output_dim=200, input_length=max_sequence_length))\n",
    "lstm_model.add(LSTM(100))\n",
    "lstm_model.add(Dense(100, activation='relu'))\n",
    "lstm_model.add(Dense(20, activation='softmax'))\n",
    "lstm_model.compile(optimizer='adam', loss='sparse_categorical_crossentropy', metrics=['accuracy'])\n",
    "\n",
    "# Use early stopping during model training\n",
    "lstm_model.fit(train_padded, y_train1, validation_data=(test_padded, y_test1),epochs = 50, callbacks=[early_stop])"
   ]
  },
  {
   "cell_type": "code",
   "execution_count": 26,
   "id": "65ff9804-fca6-4418-851e-f4f82c505339",
   "metadata": {
    "colab": {
     "base_uri": "https://localhost:8080/"
    },
    "id": "65ff9804-fca6-4418-851e-f4f82c505339",
    "outputId": "51dc2ee8-ab52-4cdb-9f37-17eab69f63ae"
   },
   "outputs": [
    {
     "name": "stdout",
     "output_type": "stream",
     "text": [
      "190/190 [==============================] - 1s 3ms/step\n",
      "Accuracy: 55.69%\n",
      "Confusion Matrix: [[ 89   0   2   0   0   0   3   4  14   0   0   5   1   2   4  59  13   4\n",
      "   15  50]\n",
      " [  0 112  36  15   3  19  21   2   6   2   0   6  48   4  19   1   6   1\n",
      "    0   1]\n",
      " [  3  23 110  25  25  87  12   0   5   0   0   0  24   0   5   0   4   0\n",
      "    0   0]\n",
      " [  0  15  35 136  55  15  15  35   7   0   0   0  33   0   1   0   0   0\n",
      "    1   0]\n",
      " [  1   6  17  39 156   5  21  28  15   0   0   1  24   2   1   0   1   0\n",
      "    0   0]\n",
      " [  1  24  68   9   2 184  15   1   7   1   0   2  11   0   0   0   1   0\n",
      "    0   0]\n",
      " [  0  15  20   3  20   2 193   8  17   0   0   4  14   0  12   0  12   1\n",
      "    1   0]\n",
      " [  2   1   3   2   4   0  14 172  52   3   0   1  45   1   9   1  10   0\n",
      "    3   2]\n",
      " [  1   1   0   0   2   0   2  47 210   4   0   1  13   7   5   3  21   0\n",
      "    6   4]\n",
      " [  3   1   0   0   0   0   4   5  32 228   5   0   4   1   1   2  18   1\n",
      "    3  10]\n",
      " [  5   0   0   0   0   1   3   0  14  57 205   2   0   1   3   1  41   0\n",
      "    0   4]\n",
      " [  1   4   3   0   1   1   6   2   5   0   0 212  15   5  11   2  26   0\n",
      "   14   2]\n",
      " [  0  11   6   5   3   2   8  17  13   0   0   5 205   5  13   1   4   0\n",
      "    0   1]\n",
      " [  3   1   1   0   0   0   3   0  19   2   0   8  27 185  17   4   4   0\n",
      "    7   5]\n",
      " [  2  14   2   0   0   0   9   3  11   0   0  10  34  18 206   3   9   0\n",
      "    8   1]\n",
      " [ 12   3   2   0   0   0   3   1   4   1   0   1   2   7   2 230   4   4\n",
      "    4  30]\n",
      " [  4   1   0   0   0   0   5   4  12   2   0  15   2   4   5   3 187   1\n",
      "   43  10]\n",
      " [ 12   1   0   0   0   0  10   0   9   4   0   6   1   1   1   5  11 194\n",
      "   37   5]\n",
      " [  7   0   1   0   0   0   1   2   4   4   0  15   3   5   7   6  43   2\n",
      "  104  13]\n",
      " [ 15   0   0   0   0   0   2   0  15   0   0   3   3   3   6  64  17   2\n",
      "   12  51]]\n",
      "              precision    recall  f1-score   support\n",
      "\n",
      "           0     0.5528    0.3358    0.4178       265\n",
      "           1     0.4807    0.3709    0.4187       302\n",
      "           2     0.3595    0.3406    0.3498       323\n",
      "           3     0.5812    0.3908    0.4674       348\n",
      "           4     0.5756    0.4921    0.5306       317\n",
      "           5     0.5823    0.5644    0.5732       326\n",
      "           6     0.5514    0.5994    0.5744       322\n",
      "           7     0.5196    0.5292    0.5244       325\n",
      "           8     0.4459    0.6422    0.5263       327\n",
      "           9     0.7403    0.7170    0.7284       318\n",
      "          10     0.9762    0.6083    0.7495       337\n",
      "          11     0.7138    0.6839    0.6985       310\n",
      "          12     0.4028    0.6856    0.5074       299\n",
      "          13     0.7371    0.6469    0.6890       286\n",
      "          14     0.6280    0.6242    0.6261       330\n",
      "          15     0.5974    0.7419    0.6619       310\n",
      "          16     0.4329    0.6275    0.5123       298\n",
      "          17     0.9238    0.6532    0.7653       297\n",
      "          18     0.4031    0.4793    0.4379       217\n",
      "          19     0.2698    0.2642    0.2670       193\n",
      "\n",
      "    accuracy                         0.5569      6050\n",
      "   macro avg     0.5737    0.5499    0.5513      6050\n",
      "weighted avg     0.5829    0.5569    0.5592      6050\n",
      "\n",
      "[[1.42353827e-06 8.64136405e-03 1.78518862e-01 ... 2.89834188e-05\n",
      "  1.58419618e-06 2.65165710e-07]\n",
      " [5.40953697e-05 1.44708948e-03 3.05284443e-03 ... 2.98202704e-05\n",
      "  1.11309255e-05 1.01190068e-04]\n",
      " [5.02123730e-03 1.15406365e-04 1.34287460e-03 ... 1.63195729e-02\n",
      "  9.15004313e-02 4.08328464e-03]\n",
      " ...\n",
      " [1.22984499e-03 2.53279060e-01 3.34647238e-01 ... 1.30131177e-03\n",
      "  1.73586025e-03 2.04305747e-04]\n",
      " [4.29128967e-02 9.39510670e-03 5.44145191e-03 ... 2.42503895e-03\n",
      "  3.30092236e-02 4.12708409e-02]\n",
      " [1.00955472e-03 1.44843070e-04 2.72332545e-05 ... 3.24954854e-05\n",
      "  2.78068881e-04 3.52020399e-03]]\n"
     ]
    }
   ],
   "source": [
    "y_pred = lstm_model.predict(test_padded)\n",
    "y_pred_class = [np.argmax(element) for element in y_pred]\n",
    "acc = accuracy_score(y_test1, y_pred_class)\n",
    "print(f\"Accuracy: {acc * 100:.2f}%\")\n",
    "print(f\"Confusion Matrix: {confusion_matrix(y_test1,y_pred_class)}\")\n",
    "lstm_classification_report = classification_report(y_test1, y_pred_class, digits=4)\n",
    "print(lstm_classification_report)\n",
    "print(y_pred)"
   ]
  },
  {
   "cell_type": "code",
   "execution_count": 27,
   "id": "195cc94f-c135-40fc-a0b5-049ff30ee2d8",
   "metadata": {
    "colab": {
     "base_uri": "https://localhost:8080/"
    },
    "id": "195cc94f-c135-40fc-a0b5-049ff30ee2d8",
    "outputId": "a9b714c3-a907-4ec5-80e1-98a0fcf8ed45"
   },
   "outputs": [
    {
     "name": "stdout",
     "output_type": "stream",
     "text": [
      "190/190 [==============================] - 1s 5ms/step - loss: 1.5388 - accuracy: 0.5569\n",
      "\n",
      "LSTM Model:\n",
      "Accuracy: 0.5568594932556152\n"
     ]
    }
   ],
   "source": [
    "# Evaluate LSTM Model\n",
    "lstm_loss, lstm_accuracy = lstm_model.evaluate(test_padded, y_test1)\n",
    "\n",
    "print(\"\\nLSTM Model:\")\n",
    "print(f\"Accuracy: {lstm_accuracy}\")"
   ]
  },
  {
   "cell_type": "code",
   "execution_count": 46,
   "id": "7af44249-7c31-4afd-be50-780c6f14291c",
   "metadata": {
    "colab": {
     "base_uri": "https://localhost:8080/"
    },
    "id": "7af44249-7c31-4afd-be50-780c6f14291c",
    "outputId": "0228370b-b0e2-4276-e0b9-e9f78d55fdde"
   },
   "outputs": [
    {
     "name": "stdout",
     "output_type": "stream",
     "text": [
      "Epoch 1/50\n",
      "384/384 [==============================] - 41s 100ms/step - loss: 2.6841 - accuracy: 0.1022 - val_loss: 2.4804 - val_accuracy: 0.1476\n",
      "Epoch 2/50\n",
      "384/384 [==============================] - 17s 44ms/step - loss: 2.2599 - accuracy: 0.1882 - val_loss: 2.1614 - val_accuracy: 0.2147\n",
      "Epoch 3/50\n",
      "384/384 [==============================] - 11s 27ms/step - loss: 1.7637 - accuracy: 0.3281 - val_loss: 1.8495 - val_accuracy: 0.3326\n",
      "Epoch 4/50\n",
      "384/384 [==============================] - 14s 36ms/step - loss: 1.3373 - accuracy: 0.4873 - val_loss: 1.6478 - val_accuracy: 0.4540\n",
      "Epoch 5/50\n",
      "384/384 [==============================] - 8s 20ms/step - loss: 1.0016 - accuracy: 0.6254 - val_loss: 1.6239 - val_accuracy: 0.5030\n",
      "Epoch 6/50\n",
      "384/384 [==============================] - 5s 13ms/step - loss: 0.7512 - accuracy: 0.7264 - val_loss: 1.5850 - val_accuracy: 0.5269\n",
      "Epoch 7/50\n",
      "384/384 [==============================] - 5s 12ms/step - loss: 0.5474 - accuracy: 0.7967 - val_loss: 1.6293 - val_accuracy: 0.5704\n",
      "Epoch 8/50\n",
      "384/384 [==============================] - 5s 12ms/step - loss: 0.4069 - accuracy: 0.8583 - val_loss: 1.5931 - val_accuracy: 0.5883\n",
      "Epoch 9/50\n",
      "384/384 [==============================] - 6s 14ms/step - loss: 0.2995 - accuracy: 0.9039 - val_loss: 1.6652 - val_accuracy: 0.6036\n",
      "Epoch 10/50\n",
      "384/384 [==============================] - 4s 11ms/step - loss: 0.2446 - accuracy: 0.9310 - val_loss: 1.6241 - val_accuracy: 0.6268\n",
      "Epoch 11/50\n",
      "384/384 [==============================] - 5s 12ms/step - loss: 0.1814 - accuracy: 0.9498 - val_loss: 1.7765 - val_accuracy: 0.6131\n",
      "Epoch 12/50\n",
      "384/384 [==============================] - 6s 15ms/step - loss: 0.1164 - accuracy: 0.9694 - val_loss: 1.7734 - val_accuracy: 0.6331\n",
      "Epoch 13/50\n",
      "384/384 [==============================] - 5s 14ms/step - loss: 0.0908 - accuracy: 0.9759 - val_loss: 1.9148 - val_accuracy: 0.6314\n"
     ]
    },
    {
     "data": {
      "text/plain": [
       "<keras.src.callbacks.History at 0x7e7a8b3a4850>"
      ]
     },
     "execution_count": 46,
     "metadata": {},
     "output_type": "execute_result"
    }
   ],
   "source": [
    "early_stop = EarlyStopping(monitor='val_loss', patience=7, restore_best_weights=True)\n",
    "\n",
    "lstm_model = Sequential()\n",
    "lstm_model.add(Embedding(input_dim=vocab_size, output_dim=120, input_length=max_sequence_length))\n",
    "lstm_model.add(LSTM(120))\n",
    "lstm_model.add(Dense(60, activation='relu'))\n",
    "lstm_model.add(Dense(20, activation='softmax'))\n",
    "lstm_model.compile(optimizer='adam', loss='sparse_categorical_crossentropy', metrics=['accuracy'])\n",
    "\n",
    "# Use early stopping during model training\n",
    "lstm_model.fit(train_padded, y_train1, validation_data=(test_padded, y_test1),epochs = 50, callbacks=[early_stop])"
   ]
  },
  {
   "cell_type": "code",
   "execution_count": 47,
   "id": "64e13634-5078-429e-8bff-7cb79bba2570",
   "metadata": {
    "colab": {
     "base_uri": "https://localhost:8080/"
    },
    "id": "64e13634-5078-429e-8bff-7cb79bba2570",
    "outputId": "af761c2f-da25-4956-b879-1680f7d07e87"
   },
   "outputs": [
    {
     "name": "stdout",
     "output_type": "stream",
     "text": [
      "190/190 [==============================] - 1s 4ms/step\n",
      "Accuracy: 52.69%\n",
      "Confusion Matrix: [[ 29   4   1   0   0   0   0   4   0   2   3  15   1   1   7  45   4  13\n",
      "   29 107]\n",
      " [  0 172  20  19  13   1   8   0   0   0   0  17  39   1   4   1   2   2\n",
      "    3   0]\n",
      " [  0  37 192  33   9  28   1   0   0   2   0   7   7   1   3   0   0   2\n",
      "    1   0]\n",
      " [  0  95  36 139  33   4   8   1   0   0   0   5  22   0   3   0   0   2\n",
      "    0   0]\n",
      " [  0  88  15 130  38   3  11   3   0   3   0   5  13   1   3   1   1   1\n",
      "    1   0]\n",
      " [  0  26 191  13   5  66   4   0   0   1   0  13   3   0   2   0   1   1\n",
      "    0   0]\n",
      " [  0  83   2   3   6   1 112   5   1   0   3  12  88   0   3   0   1   0\n",
      "    0   2]\n",
      " [  0   5   2   0   0   0   1 199   8   0   0  16  75   1   9   0   2   1\n",
      "    3   3]\n",
      " [  1   5   1   0   0   0   0  85 128   7   0  17  26   4  38   3   2   4\n",
      "    2   4]\n",
      " [  0   3   1   0   0   0   0   0   3 238  20  20   4   8   5   1   3   5\n",
      "    7   0]\n",
      " [  0   0   3   0   0   0   0   2   0  28 263  18   1   1   3   0   3   3\n",
      "   12   0]\n",
      " [  0  17   2   0   0   0   0   0   1   1   0 242  13   3   6   1  11   4\n",
      "    7   2]\n",
      " [  0  27   4   3   4   0  14  12   0   2   2  13 195   1  17   0   0   2\n",
      "    2   1]\n",
      " [  0  10   1   1   1   0   0   4   1   4   0  16  10 202  14   4   4   2\n",
      "    5   7]\n",
      " [  0  10   3   0   0   1   1   5   0   2   0  30  17   5 232   2   4   5\n",
      "    7   6]\n",
      " [  1   1   0   0   0   0   0   1   0   1   0  14   2   0   3 239   1   7\n",
      "    7  33]\n",
      " [  2   1   2   0   0   0   0   4   1   3   0  36   8   7  10   6 111   4\n",
      "   92  11]\n",
      " [  0   2   0   0   0   0   0   0   1   0   1  18   5   1   2  18   2 226\n",
      "    8  13]\n",
      " [  2   1   3   1   0   0   0   1   0   4   2  20   2   4   6  15  17   5\n",
      "  110  24]\n",
      " [  2   2   3   0   0   0   0   1   0   0   0  10   4   1   5  78   6   7\n",
      "   19  55]]\n",
      "              precision    recall  f1-score   support\n",
      "\n",
      "           0     0.7838    0.1094    0.1921       265\n",
      "           1     0.2920    0.5695    0.3861       302\n",
      "           2     0.3983    0.5944    0.4770       323\n",
      "           3     0.4064    0.3994    0.4029       348\n",
      "           4     0.3486    0.1199    0.1784       317\n",
      "           5     0.6346    0.2025    0.3070       326\n",
      "           6     0.7000    0.3478    0.4647       322\n",
      "           7     0.6086    0.6123    0.6104       325\n",
      "           8     0.8889    0.3914    0.5435       327\n",
      "           9     0.7987    0.7484    0.7727       318\n",
      "          10     0.8946    0.7804    0.8336       337\n",
      "          11     0.4449    0.7806    0.5667       310\n",
      "          12     0.3645    0.6522    0.4676       299\n",
      "          13     0.8347    0.7063    0.7652       286\n",
      "          14     0.6187    0.7030    0.6582       330\n",
      "          15     0.5773    0.7710    0.6602       310\n",
      "          16     0.6343    0.3725    0.4693       298\n",
      "          17     0.7635    0.7609    0.7622       297\n",
      "          18     0.3492    0.5069    0.4135       217\n",
      "          19     0.2052    0.2850    0.2386       193\n",
      "\n",
      "    accuracy                         0.5269      6050\n",
      "   macro avg     0.5773    0.5207    0.5085      6050\n",
      "weighted avg     0.5872    0.5269    0.5172      6050\n",
      "\n",
      "[[4.75418528e-06 1.70886889e-03 5.69154382e-01 ... 1.35185737e-05\n",
      "  8.85751706e-06 5.04806194e-05]\n",
      " [4.50774387e-04 7.23576665e-01 9.27243847e-03 ... 1.18123171e-04\n",
      "  3.09643889e-04 6.49964088e-04]\n",
      " [1.65564287e-02 1.42228033e-04 1.04797589e-04 ... 1.55501068e-03\n",
      "  5.17555773e-01 2.66521033e-02]\n",
      " ...\n",
      " [1.44117000e-02 1.67056452e-02 1.56644229e-02 ... 3.86935137e-02\n",
      "  2.99465600e-02 2.29298659e-02]\n",
      " [1.07654724e-02 3.98377981e-03 6.25292631e-03 ... 1.50175318e-02\n",
      "  1.58031434e-02 9.41761304e-03]\n",
      " [8.02361988e-04 8.05742457e-04 1.15370518e-03 ... 1.19946955e-04\n",
      "  4.11286193e-04 1.29920675e-03]]\n"
     ]
    }
   ],
   "source": [
    "###for the smallest model\n",
    "y_pred = lstm_model.predict(test_padded)\n",
    "y_pred_class = [np.argmax(element) for element in y_pred]\n",
    "acc = accuracy_score(y_test1, y_pred_class)\n",
    "print(f\"Accuracy: {acc * 100:.2f}%\")\n",
    "print(f\"Confusion Matrix: {confusion_matrix(y_test1,y_pred_class)}\")\n",
    "lstm_classification_report = classification_report(y_test1, y_pred_class, digits=4)\n",
    "print(lstm_classification_report)\n",
    "print(y_pred)"
   ]
  },
  {
   "cell_type": "code",
   "execution_count": 48,
   "id": "3bc28f7d-7b3c-44c4-b259-4f4845eae32e",
   "metadata": {
    "colab": {
     "base_uri": "https://localhost:8080/"
    },
    "id": "3bc28f7d-7b3c-44c4-b259-4f4845eae32e",
    "outputId": "d3547dff-55b7-47eb-84b4-1e843ee0263d"
   },
   "outputs": [
    {
     "name": "stdout",
     "output_type": "stream",
     "text": [
      "190/190 [==============================] - 1s 4ms/step - loss: 1.5850 - accuracy: 0.5269\n",
      "\n",
      "LSTM Model:\n",
      "Accuracy: 0.5269421339035034\n"
     ]
    }
   ],
   "source": [
    "# Evaluate LSTM Model\n",
    "lstm_loss, lstm_accuracy = lstm_model.evaluate(test_padded, y_test1)\n",
    "\n",
    "print(\"\\nLSTM Model:\")\n",
    "print(f\"Accuracy: {lstm_accuracy}\")"
   ]
  },
  {
   "cell_type": "code",
   "execution_count": null,
   "id": "2cf6f393-ff76-4977-a303-ae46ddf5ea58",
   "metadata": {
    "id": "2cf6f393-ff76-4977-a303-ae46ddf5ea58"
   },
   "outputs": [],
   "source": []
  },
  {
   "cell_type": "code",
   "execution_count": null,
   "id": "dba0d527-d282-47ec-a587-14b9b34a3ca7",
   "metadata": {
    "id": "dba0d527-d282-47ec-a587-14b9b34a3ca7"
   },
   "outputs": [],
   "source": []
  }
 ],
 "metadata": {
  "accelerator": "GPU",
  "colab": {
   "gpuType": "T4",
   "provenance": []
  },
  "kernelspec": {
   "display_name": "Python 3 (ipykernel)",
   "language": "python",
   "name": "python3"
  },
  "language_info": {
   "codemirror_mode": {
    "name": "ipython",
    "version": 3
   },
   "file_extension": ".py",
   "mimetype": "text/x-python",
   "name": "python",
   "nbconvert_exporter": "python",
   "pygments_lexer": "ipython3",
   "version": "3.11.5"
  }
 },
 "nbformat": 4,
 "nbformat_minor": 5
}
